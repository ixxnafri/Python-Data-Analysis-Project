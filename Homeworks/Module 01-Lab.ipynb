{
 "cells": [
  {
   "cell_type": "markdown",
   "metadata": {
    "collapsed": true
   },
   "source": [
    "<h1>Basic Unix Commands</h1>\n",
    "<br>\n",
    "<p>\n",
    "To complete the Module 1 lab exercise, you will need to open a terminal window in cocalc.com using by selecting the +Create button or the +New tab, followed by the > Terminal button. You may name your\n",
    "terminal by the date or by whatever convention you choose. [50 pts]\n",
    "</p1>"
   ]
  },
  {
   "cell_type": "markdown",
   "metadata": {},
   "source": [
    "1. Directory Navigation\n",
    "For each of the following directives, make note of the terminal response or output. You will hand in\n",
    "your notes as the first assignment. [20 pts]"
   ]
  },
  {
   "cell_type": "markdown",
   "metadata": {},
   "source": [
    "#### (a) Determine your current working directory. What is it"
   ]
  },
  {
   "cell_type": "code",
   "execution_count": 1,
   "metadata": {},
   "outputs": [
    {
     "data": {
      "text/plain": [
       "'/home/nbuser/library'"
      ]
     },
     "execution_count": 1,
     "metadata": {},
     "output_type": "execute_result"
    }
   ],
   "source": [
    "pwd"
   ]
  },
  {
   "cell_type": "markdown",
   "metadata": {},
   "source": [
    "#### (b) List the contents of the current directory in long format. What additional information is provided when using the option -l?\n"
   ]
  },
  {
   "cell_type": "code",
   "execution_count": 4,
   "metadata": {},
   "outputs": [
    {
     "name": "stdout",
     "output_type": "stream",
     "text": [
      "total 0\r\n",
      "drwxr-xr-x 2 nbuser nbuser    0 Sep 26 13:31 \u001b[0m\u001b[01;34mATMS305\u001b[0m/\r\n",
      "-rw-r--r-- 1 nbuser nbuser 2042 Sep 28 04:59 Module 01-Lab.ipynb\r\n"
     ]
    }
   ],
   "source": [
    "ls -l"
   ]
  },
  {
   "cell_type": "markdown",
   "metadata": {},
   "source": [
    "ls is a linux shell command that list directory contents of files and directories and an addition of -l will give you a list with long format and show permissions of the files."
   ]
  },
  {
   "cell_type": "markdown",
   "metadata": {},
   "source": [
    "#### (c) List the contents of the current directory in long format with hidden files revealed. What additional files/directories are present in your home directory?\n"
   ]
  },
  {
   "cell_type": "code",
   "execution_count": 5,
   "metadata": {},
   "outputs": [
    {
     "name": "stdout",
     "output_type": "stream",
     "text": [
      "total 4\r\n",
      "drwxr-xr-x 2 nbuser nbuser    0 Jan  1  1970 \u001b[0m\u001b[01;34m.\u001b[0m/\r\n",
      "drwx------ 6 nbuser nbuser 4096 Sep 28 04:55 \u001b[01;34m..\u001b[0m/\r\n",
      "drwxr-xr-x 2 nbuser nbuser    0 Sep 28 04:55 \u001b[01;34m.ipynb_checkpoints\u001b[0m/\r\n",
      "drwxr-xr-x 2 nbuser nbuser    0 Sep 26 13:31 \u001b[01;34mATMS305\u001b[0m/\r\n",
      "-rw-r--r-- 1 nbuser nbuser 2922 Sep 28 05:01 Module 01-Lab.ipynb\r\n"
     ]
    }
   ],
   "source": [
    "ls -al"
   ]
  },
  {
   "cell_type": "raw",
   "metadata": {},
   "source": [
    "-al/-la  will show a list long format that will include hidden files"
   ]
  },
  {
   "cell_type": "markdown",
   "metadata": {},
   "source": [
    "#### (d) Create a directory called test. What are the permissions of your new directory? Remember that permissions are listed as a string of 10 characters beginning with a d for directory or a - for other file types. This first character is followed by 9 characters arranged in groups of three for user/group/other. The three possible characters are rwx, which stand for readable, writeable and executable when present. If no permission is granted, the triplet will appear as ---.\n"
   ]
  },
  {
   "cell_type": "code",
   "execution_count": 9,
   "metadata": {},
   "outputs": [
    {
     "name": "stdout",
     "output_type": "stream",
     "text": [
      "\n",
      "Automagic is ON, % prefix IS NOT needed for line magics.\n"
     ]
    }
   ],
   "source": [
    "%automagic 1"
   ]
  },
  {
   "cell_type": "code",
   "execution_count": 18,
   "metadata": {},
   "outputs": [
    {
     "name": "stdout",
     "output_type": "stream",
     "text": [
      "total 4\r\n",
      "drwxr-xr-x 2 nbuser nbuser    0 Jan  1  1970 .\r\n",
      "drwx------ 6 nbuser nbuser 4096 Sep 28 04:55 ..\r\n",
      "drwxr-xr-x 2 nbuser nbuser    0 Sep 28 04:55 .ipynb_checkpoints\r\n",
      "drwxr-xr-x 2 nbuser nbuser    0 Sep 26 13:31 ATMS305\r\n",
      "-rw-r--r-- 1 nbuser nbuser 5897 Sep 28 05:05 Module 01-Lab.ipynb\r\n",
      "drwxr-xr-x 2 nbuser nbuser    0 Sep 28 05:06 test\r\n"
     ]
    }
   ],
   "source": [
    "!rmdir test\n",
    "!mkdir test\n",
    "!ls -al"
   ]
  },
  {
   "cell_type": "markdown",
   "metadata": {},
   "source": [
    "the permission for this directory is read, write, and execute"
   ]
  },
  {
   "cell_type": "markdown",
   "metadata": {},
   "source": [
    "#### (e) Change the current working directory to the new test directory.\n",
    "#### <br>     What does the symbol && do?\n",
    "\n"
   ]
  },
  {
   "cell_type": "code",
   "execution_count": 19,
   "metadata": {},
   "outputs": [
    {
     "name": "stdout",
     "output_type": "stream",
     "text": [
      "total 0\r\n"
     ]
    }
   ],
   "source": [
    "!cd test && ls -l"
   ]
  },
  {
   "cell_type": "raw",
   "metadata": {},
   "source": [
    "&& is \"and\". What it means is it change current directory to the new test directory \"and\" give a list with long format + show permission of the files\n",
    "    total 0 shows us that there is a total of 0 files inside the new directory"
   ]
  },
  {
   "cell_type": "markdown",
   "metadata": {},
   "source": [
    "#### (f) Change the working directory back to your home directory"
   ]
  },
  {
   "cell_type": "code",
   "execution_count": 20,
   "metadata": {
    "collapsed": true
   },
   "outputs": [],
   "source": [
    "!cd .."
   ]
  },
  {
   "cell_type": "markdown",
   "metadata": {},
   "source": [
    "What do the two periods accomplish? To discover for yourself, you may wish to create a\n",
    "directory beneath test and move to this new directory. Use cd with the periods, and use cd\n",
    "alone. What is the difference?"
   ]
  },
  {
   "cell_type": "raw",
   "metadata": {},
   "source": [
    "cd .. command moves the directory back by one directory, also known as the parent directory while cd command takes you back to the root/home directory "
   ]
  },
  {
   "cell_type": "markdown",
   "metadata": {},
   "source": [
    "#### (g) Write a new function called cd to combine the operations cd and ls as follows. Be careful with your syntax."
   ]
  },
  {
   "cell_type": "raw",
   "metadata": {},
   "source": [
    "!function cd() { new_directory=\"$*\";\n",
    "if [ $# -eq 0 ]; then\n",
    "new_directory=${HOME};\n",
    "fi;\n",
    "builtin cd \"${new_directory}\" && ls\n",
    "}"
   ]
  },
  {
   "cell_type": "markdown",
   "metadata": {},
   "source": [
    "#### Describe what happens each time the builtin command cd is used? If you are annoyed by this feature, you may enter the function again as it appears above but omitting the && ls portion of the final line.\n"
   ]
  },
  {
   "cell_type": "raw",
   "metadata": {},
   "source": [
    "when cd is used, it will go to the root directory and will list the files/directory that is contained in the root directory. "
   ]
  },
  {
   "cell_type": "markdown",
   "metadata": {},
   "source": [
    "#### (h) Within the directory test, make a new file with the command:\n"
   ]
  },
  {
   "cell_type": "code",
   "execution_count": 22,
   "metadata": {
    "collapsed": true
   },
   "outputs": [],
   "source": [
    "!echo this\\ is\\ my\\ first\\ file > test.txt\n"
   ]
  },
  {
   "cell_type": "markdown",
   "metadata": {},
   "source": [
    "#### Why do we use the backslash (also called an escape)? How can you verify your file has been created?"
   ]
  },
  {
   "cell_type": "raw",
   "metadata": {},
   "source": [
    "The backslash (\\) character is used to mark special characters so that they are not interpreted by the shell, but passed on to the command being run"
   ]
  },
  {
   "cell_type": "markdown",
   "metadata": {},
   "source": [
    "#### (i) Read your file with the following command."
   ]
  },
  {
   "cell_type": "code",
   "execution_count": 23,
   "metadata": {},
   "outputs": [
    {
     "name": "stdout",
     "output_type": "stream",
     "text": [
      "this is my first file\r\n"
     ]
    }
   ],
   "source": [
    "!more test.txt"
   ]
  },
  {
   "cell_type": "raw",
   "metadata": {},
   "source": [
    "# \"this is my first file\" pops out. it read and echo the line onto the terminal"
   ]
  },
  {
   "cell_type": "markdown",
   "metadata": {},
   "source": [
    "#### (j) We can add a second line as follows:"
   ]
  },
  {
   "cell_type": "code",
   "execution_count": 25,
   "metadata": {},
   "outputs": [],
   "source": [
    "!echo this\\ is\\ the\\ second\\ line >> test.txt\n"
   ]
  },
  {
   "cell_type": "markdown",
   "metadata": {},
   "source": [
    "it has two \">>\" character compared to the first line that has only one \">\" character."
   ]
  },
  {
   "cell_type": "markdown",
   "metadata": {},
   "source": [
    "#### (k) When using more filename, you can search for a particular string by selecting the forward slash key, typing the string, and pressing enter. However, if you want to look for a string in multiple files, then the command grep is a better option. <br>Type the following: "
   ]
  },
  {
   "cell_type": "code",
   "execution_count": 26,
   "metadata": {},
   "outputs": [
    {
     "name": "stdout",
     "output_type": "stream",
     "text": [
      "this is the second line\r\n"
     ]
    }
   ],
   "source": [
    "!grep second test.txt"
   ]
  },
  {
   "cell_type": "raw",
   "metadata": {},
   "source": [
    "the output is the whole second line \"this is the second line\" with the word second highlighted."
   ]
  },
  {
   "cell_type": "markdown",
   "metadata": {},
   "source": [
    "#### (l) Move to your top directory and remove your test directory with the following command"
   ]
  },
  {
   "cell_type": "code",
   "execution_count": 31,
   "metadata": {},
   "outputs": [
    {
     "name": "stdout",
     "output_type": "stream",
     "text": [
      "ATMS305  Module 01-Lab.ipynb  test.txt\r\n"
     ]
    }
   ],
   "source": [
    "!mkdir test\n",
    "!rmdir test\n",
    "!ls"
   ]
  },
  {
   "cell_type": "raw",
   "metadata": {},
   "source": [
    "the file has not been removed. We can verify that the directory haven't been removed by typing \"ls\" in the terminal."
   ]
  },
  {
   "cell_type": "markdown",
   "metadata": {},
   "source": [
    "#### (m) If your file has not been removed, try typing\n"
   ]
  },
  {
   "cell_type": "code",
   "execution_count": 32,
   "metadata": {},
   "outputs": [
    {
     "name": "stdout",
     "output_type": "stream",
     "text": [
      "RMDIR(1)                         User Commands                        RMDIR(1)\r\n",
      "\r\n",
      "N\bNA\bAM\bME\bE\r\n",
      "       rmdir - remove empty directories\r\n",
      "\r\n",
      "S\bSY\bYN\bNO\bOP\bPS\bSI\bIS\bS\r\n",
      "       r\brm\bmd\bdi\bir\br [_\bO_\bP_\bT_\bI_\bO_\bN]... _\bD_\bI_\bR_\bE_\bC_\bT_\bO_\bR_\bY...\r\n",
      "\r\n",
      "D\bDE\bES\bSC\bCR\bRI\bIP\bPT\bTI\bIO\bON\bN\r\n",
      "       Remove the DIRECTORY(ies), if they are empty.\r\n",
      "\r\n",
      "       -\b--\b-i\big\bgn\bno\bor\bre\be-\b-f\bfa\bai\bil\bl-\b-o\bon\bn-\b-n\bno\bon\bn-\b-e\bem\bmp\bpt\bty\by\r\n",
      "\r\n",
      "              ignore each failure that is solely because a directory\r\n",
      "\r\n",
      "              is non-empty\r\n",
      "\r\n",
      "       -\b-p\bp, -\b--\b-p\bpa\bar\bre\ben\bnt\bts\bs\r\n",
      "              remove  DIRECTORY  and  its ancestors; e.g., 'rmdir -\b-p\bp a/b/c' is\r\n",
      "              similar to 'rmdir a/b/c a/b a'\r\n",
      "\r\n",
      "       -\b-v\bv, -\b--\b-v\bve\ber\brb\bbo\bos\bse\be\r\n",
      "              output a diagnostic for every directory processed\r\n",
      "\r\n",
      "       -\b--\b-h\bhe\bel\blp\bp display this help and exit\r\n",
      "\r\n",
      "       -\b--\b-v\bve\ber\brs\bsi\bio\bon\bn\r\n",
      "              output version information and exit\r\n",
      "\r\n",
      "A\bAU\bUT\bTH\bHO\bOR\bR\r\n",
      "       Written by David MacKenzie.\r\n",
      "\r\n",
      "R\bRE\bEP\bPO\bOR\bRT\bTI\bIN\bNG\bG B\bBU\bUG\bGS\bS\r\n",
      "       GNU coreutils online help: <http://www.gnu.org/software/coreutils/>\r\n",
      "       Report rmdir translation bugs to <http://translationproject.org/team/>\r\n",
      "\r\n",
      "C\bCO\bOP\bPY\bYR\bRI\bIG\bGH\bHT\bT\r\n",
      "       Copyright (C) 2016 Free Software Foundation, Inc.  License GPLv3+:  GNU\r\n",
      "       GPL version 3 or later <http://gnu.org/licenses/gpl.html>.\r\n",
      "       This  is  free  software:  you  are free to change and redistribute it.\r\n",
      "       There is NO WARRANTY, to the extent permitted by law.\r\n",
      "\r\n",
      "S\bSE\bEE\bE A\bAL\bLS\bSO\bO\r\n",
      "       rmdir(2)\r\n",
      "\r\n",
      "       Full documentation at: <http://www.gnu.org/software/coreutils/rmdir>\r\n",
      "       or available locally via: info '(coreutils) rmdir invocation'\r\n",
      "\r\n",
      "GNU coreutils 8.25               February 2017                        RMDIR(1)\r\n"
     ]
    }
   ],
   "source": [
    "!man rmdir"
   ]
  },
  {
   "cell_type": "raw",
   "metadata": {},
   "source": [
    "The command does not work because rmdir only remove empty directory"
   ]
  },
  {
   "cell_type": "markdown",
   "metadata": {},
   "source": [
    "#### (n) Try removing the test directory by using the following:"
   ]
  },
  {
   "cell_type": "code",
   "execution_count": 33,
   "metadata": {},
   "outputs": [
    {
     "name": "stdout",
     "output_type": "stream",
     "text": [
      "ATMS305  Module 01-Lab.ipynb  test.txt\r\n"
     ]
    }
   ],
   "source": [
    "!rm -rf test\n",
    "!ls"
   ]
  },
  {
   "cell_type": "markdown",
   "metadata": {},
   "source": [
    "#### What is the primary difference between rm and rmdir? What do the options -rf mean?"
   ]
  },
  {
   "cell_type": "markdown",
   "metadata": {},
   "source": [
    "The primary differences between rm and rmdir is that rm removes files and directories while rmdir only removes directories. Option -rf means force recursively remove directories and contents"
   ]
  },
  {
   "cell_type": "markdown",
   "metadata": {},
   "source": [
    "<h2> 2. Changing File Permissions </h2>\n",
    "<p>\n",
    "For each of the following directives make note of the response or output of your terminal. You will\n",
    "hand in your notes as the first assignment. Remember you can copy and paste terminal output. [10\n",
    "pts]\n",
    "</p>"
   ]
  },
  {
   "cell_type": "markdown",
   "metadata": {},
   "source": [
    "#### (a) Display the current file permissions on the file monthly in situ co2 mlo.csv. What are they? (N.B. You can type the beginning of a filename to the point of it being a unique filename and then use tab to autocomplete the filename.)"
   ]
  },
  {
   "cell_type": "raw",
   "metadata": {},
   "source": [
    "read and write permission for the owner, read for group and others <br>\n",
    "\t-rw-r--r--"
   ]
  },
  {
   "cell_type": "markdown",
   "metadata": {},
   "source": [
    "#### (b) Restrict access to the file questions by removing read permissions for group and other.\n"
   ]
  },
  {
   "cell_type": "raw",
   "metadata": {},
   "source": [
    "changes the permission for group to others. <br>\n",
    "\t-rw-------"
   ]
  },
  {
   "cell_type": "markdown",
   "metadata": {},
   "source": [
    "#### (c) Display the files permissions on monthly in situ co2 mlo.csv and note how the permissions have been changed.\n"
   ]
  },
  {
   "cell_type": "raw",
   "metadata": {},
   "source": [
    "changes the permission for group to others. <br>\n",
    "\t-rw-------"
   ]
  },
  {
   "cell_type": "markdown",
   "metadata": {},
   "source": [
    "<h2>3. Viewing Files </h2>\n",
    "<p>\n",
    "For each of the following directives make note of the response or output of your terminal. You will\n",
    "hand in your notes as the first assignment. [10 pts]\n",
    "</p>"
   ]
  },
  {
   "cell_type": "markdown",
   "metadata": {},
   "source": [
    "#### (a) List your files."
   ]
  },
  {
   "cell_type": "raw",
   "metadata": {},
   "source": [
    "ATMS_305_M1_Lab.aux          ATMS_305_M1_Lab.synctex.gz\n",
    "ATMS_305_M1_Lab.fdb_latexmk  ATMS_305_M1_Lab.tex\n",
    "ATMS_305_M1_Lab.fls          Module 1 Lab.term\n",
    "ATMS_305_M1_Lab.log          monthly_in_situ_co2_mlo.csv\n",
    "ATMS_305_M1_Lab.out          ATMS_305_M1_Lab.pdf\t"
   ]
  },
  {
   "cell_type": "markdown",
   "metadata": {},
   "source": [
    "#### (b) View the file history using either less or more."
   ]
  },
  {
   "cell_type": "raw",
   "metadata": {},
   "source": [
    "\"-----------------------------------------------------------------\n",
    "--------------------------\"\n",
    "\" Atmospheric CO2 concentrations (ppm) derived from in situ air measurements          \n",
    "etc.."
   ]
  },
  {
   "cell_type": "markdown",
   "metadata": {},
   "source": [
    "#### (c) Type the Return key a few of times to see one new line of text displayed on the screen each time. Note how the percentage in the prompt changes. Press space once to see the next full page of the file. Type b to go back one full page in the file. Type q to quit the pager and return to the system prompt.\n"
   ]
  },
  {
   "cell_type": "raw",
   "metadata": {},
   "source": [
    "Return key - a line of text\n",
    "Space Key - a full page\n",
    "b - go back a full page\n",
    "q - quit"
   ]
  },
  {
   "cell_type": "markdown",
   "metadata": {},
   "source": [
    "#### (d) Now that we’ve made some progress learning basic unix commands, you are ready for a review. <br> Use the following command to review your work within the terminal.\n"
   ]
  },
  {
   "cell_type": "raw",
   "metadata": {},
   "source": [
    "  237  ls -l monthly_in_situ_co2_mlo.csv\n",
    "  238  chmod go-r monthly_in_situ_co2_mlo.csv\n",
    "  239  ls -l questions\n",
    "  240  ls\n",
    "  241  more monthly_in_situ_co2_mlo.csv\n",
    "  242  less monthly_in_situ_co2_mlo.csv\n",
    "  243  history\n"
   ]
  },
  {
   "cell_type": "markdown",
   "metadata": {},
   "source": [
    "<h2> 4. Manipulating Files </h2>\n",
    "<p>\n",
    "Upon completing this section, please make note of the commands you found useful with a brief\n",
    "explanation. [10 pts] </p>"
   ]
  },
  {
   "cell_type": "markdown",
   "metadata": {},
   "source": [
    "#### (a) List the files in your home directory."
   ]
  },
  {
   "cell_type": "raw",
   "metadata": {},
   "source": [
    "Module 01"
   ]
  },
  {
   "cell_type": "markdown",
   "metadata": {},
   "source": [
    "#### (b) Copy old to a file called new. List your files to confirm that you have both old and new."
   ]
  },
  {
   "cell_type": "raw",
   "metadata": {},
   "source": [
    "cp copy the data inside old, and paste into a new file called new"
   ]
  },
  {
   "cell_type": "markdown",
   "metadata": {},
   "source": [
    "#### (c) Rename the file old to ancient. List your files to confirm that ancient and new exist."
   ]
  },
  {
   "cell_type": "markdown",
   "metadata": {},
   "source": [
    "rename the file old.txt to ancient, type ls to recheck the existence of the “ancient file”"
   ]
  },
  {
   "cell_type": "markdown",
   "metadata": {},
   "source": [
    "#### (d) Remove the file ancient and then list your files to ensure it has been removed."
   ]
  },
  {
   "cell_type": "raw",
   "metadata": {},
   "source": [
    "“rm” removes file named ancient"
   ]
  },
  {
   "cell_type": "markdown",
   "metadata": {},
   "source": [
    "#### (e) Create a directory called myfolder. List your files to ensure that myfolder was created."
   ]
  },
  {
   "cell_type": "raw",
   "metadata": {},
   "source": [
    "“mkdir” make directory/folder called myfolder"
   ]
  },
  {
   "cell_type": "markdown",
   "metadata": {},
   "source": [
    "#### (f) Set your current working directory to myfolder. Do not, however, type in the entire name of the directory. Instead type the first two letters and use Tab completion to fill in the rest of the file name"
   ]
  },
  {
   "cell_type": "markdown",
   "metadata": {},
   "source": [
    " tab key completes the incomplete word that exist in the directory. For example tab-bing the word “my” will give you myfolder."
   ]
  },
  {
   "cell_type": "markdown",
   "metadata": {},
   "source": [
    "#### (g) Copy the file new from your home directory to myfolder.\n"
   ]
  },
  {
   "cell_type": "raw",
   "metadata": {},
   "source": [
    "copy the file from the Module 01 to myfolder"
   ]
  },
  {
   "cell_type": "markdown",
   "metadata": {},
   "source": [
    "#### (h) Using a wildcard, list all of the files that begin with the letter n.\n"
   ]
  },
  {
   "cell_type": "raw",
   "metadata": {},
   "source": [
    "“*” is a wildcard, it will list all the files that begin with a specific character; in this case n."
   ]
  },
  {
   "cell_type": "markdown",
   "metadata": {},
   "source": [
    "#### (i) Return to your home directory.\n"
   ]
  },
  {
   "cell_type": "raw",
   "metadata": {},
   "source": [
    "jump back to the home directory.\n"
   ]
  },
  {
   "cell_type": "markdown",
   "metadata": {},
   "source": [
    "#### (j) Remove the directory called myfolder and all of its contents. List your files to ensure that it was removed."
   ]
  },
  {
   "cell_type": "raw",
   "metadata": {},
   "source": [
    "“rm” removes directory, -r means recursively named myfolder"
   ]
  }
 ],
 "metadata": {
  "kernelspec": {
   "display_name": "Python 3",
   "language": "python",
   "name": "python3"
  },
  "language_info": {
   "codemirror_mode": {
    "name": "ipython",
    "version": 3
   },
   "file_extension": ".py",
   "mimetype": "text/x-python",
   "name": "python",
   "nbconvert_exporter": "python",
   "pygments_lexer": "ipython3",
   "version": "3.5.1"
  }
 },
 "nbformat": 4,
 "nbformat_minor": 2
}
