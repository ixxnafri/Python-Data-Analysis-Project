{
 "cells": [
  {
   "cell_type": "markdown",
   "metadata": {
    "collapsed": false
   },
   "source": [
    "<h1>Earth Systems Modeling</h1>\n",
    "<h2>Lab 01: Introduction to python and jupyter notebook</h2>"
   ]
  },
  {
   "cell_type": "markdown",
   "metadata": {
    "collapsed": false
   },
   "source": [
    "Problem 1\n",
    "---\n",
    "Write a function to solve the definite integral $$\\int_{x_1}^{x_2} (ae^{bx} + c) dx$$  See the following documentation: <a href=\"http://docs.scipy.org/doc/scipy/reference/generated/scipy.integrate.quad.html#scipy.integrate.quad\"> Scipy documentation</a>.  \n",
    " \n",
    "Your function must be set up to run with input $x_1$, $x_2$, $a$, $b$, and $c$, which are passed into the function as arguments. Note: While this integration may be solved analytically, I am looking for a numerical solution. "
   ]
  },
  {
   "cell_type": "code",
   "execution_count": 2,
   "metadata": {
    "collapsed": false
   },
   "outputs": [
    {
     "data": {
      "text/plain": [
       "(12393.052728206134, 1.3759052484248062e-10)"
      ]
     },
     "execution_count": 2,
     "metadata": {
     },
     "output_type": "execute_result"
    }
   ],
   "source": [
    "from scipy import integrate\n",
    "import numpy as np\n",
    "\n",
    "def integral(x1,x2,a,b,c):\n",
    "    my_func = lambda x: a*np.exp(b*x) + c\n",
    "    integral_answer, int_error = integrate.quad(my_func,x1,x2)\n",
    "    return (integral_answer, int_error)\n",
    "\n",
    "integral(0,100,4,.05,6)\n"
   ]
  },
  {
   "cell_type": "code",
   "execution_count": 3,
   "metadata": {
    "collapsed": false
   },
   "outputs": [
   ],
   "source": [
    "import integrator\n",
    "y = integrator.integral(0,100,4,.05,6)\n"
   ]
  },
  {
   "cell_type": "markdown",
   "metadata": {
    "collapsed": false
   },
   "source": [
    "Problem 2\n",
    "---\n",
    "Write a function create a histogram using a random number generator. The histogram should represent a <em>normal</em> distribution of $1 x 10^4$ values. Make sure your distribution has an average of $avg$, and a standard deviation of $b$. Plot these values as a histogram with $n$ number of bins distribution.  The arguments of your function should be $avg$, $b$ and $n$.  See the following documentation: <a href=\"http://www.mathworks.com/help/matlab/math/random-numbers-with-specific-mean-and-variance.html\">Random Numbers from a Normal Distribution | Mathworks</a> and <a href=\"https://bespokeblog.wordpress.com/2011/07/11/basic-data-plotting-with-matplotlib-part-3-histograms/\">Part 3: Histograms | Bespoke Blog</a>.\n"
   ]
  },
  {
   "cell_type": "code",
   "execution_count": 1,
   "metadata": {
    "collapsed": false
   },
   "outputs": [
   ],
   "source": [
    "import matplotlib.pyplot as plt\n",
    "import numpy as np\n",
    "\n",
    "#n     = number of bins\n",
    "#b     = sntrd deviation '\n",
    "#avg   = mean\n",
    "def hist_funct(avg,b,n):\n",
    "    mu, sigma = avg, b # mean and standard deviation\n",
    "    s = np.random.normal(mu, sigma, 10000) #10^4 values\n",
    "    count, bins, ignored = plt.hist(s, n, normed=True)\n",
    "    plt.plot(bins, 1/(sigma * np.sqrt(2 * np.pi)) * np.exp( - (bins - mu)**2 / (2 * sigma**2) ), linewidth=2, color='r')\n",
    "    plt.title(\"Histogram\")\n",
    "    plt.xlabel(\"Value\")\n",
    "    plt.ylabel(\"Probability\")\n",
    "    plt.show()"
   ]
  },
  {
   "cell_type": "code",
   "execution_count": 2,
   "metadata": {
    "collapsed": false
   },
   "outputs": [
    {
     "data": {
      "image/png": "[encoded data removed]"
     }
    }
   ],
   "source": [
    "hist_funct(0,1,100)"
   ]
  },
  {
   "cell_type": "code",
   "execution_count": 0,
   "metadata": {
    "collapsed": false
   },
   "outputs": [
   ],
   "source": [
   ]
  }
 ],
 "metadata": {
  "kernelspec": {
   "display_name": "Python 3 (Ubuntu Linux)",
   "language": "python",
   "name": "python3"
  },
  "language_info": {
   "codemirror_mode": {
    "name": "ipython",
    "version": 3
   },
   "file_extension": ".py",
   "mimetype": "text/x-python",
   "name": "python",
   "nbconvert_exporter": "python",
   "pygments_lexer": "ipython3",
   "version": "3.5.2"
  },
  "name": "Homework 1: Basic python notebook.ipynb"
 },
 "nbformat": 4,
 "nbformat_minor": 0
}