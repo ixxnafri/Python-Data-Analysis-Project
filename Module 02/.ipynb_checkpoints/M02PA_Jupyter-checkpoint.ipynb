{
 "cells": [
  {
   "cell_type": "markdown",
   "metadata": {},
   "source": [
    "<h1>Module 1, Part A: Jupyter Notebook Tour</h1>\n",
    "\n",
    "<p>This document will give you a brief tour of the capabilities of the Jupyter notebook frontend. You can execute each cell by typing `Shift-Enter`. After you conclude this brief tour, there are three additional introductory notebooks<br> <ul>\n",
    "<li><a href= \"M02PB_Python_Functions.ipynb\" >Module 2, Part B- Functions</a>, <br>which introduces writing functions in python and how to use functions.</p> </li>\n",
    "</ul>\n",
    "\n",
    "<p>The rest of the notebooks in this directory illustrate various other aspects and \n",
    "capabilities of the Jupyter Notebook. Some aspects may require additional libraries to be executed.</p>\n",
    "\n",
    "<p>**NB:** This notebook *must* be run from its own directory, so you must `%cd`\n",
    "to this directory and then start the notebook, but do *not* use the `--notebook-dir`\n",
    "option to run it from another location.</p>\n",
    "\n",
    "<h2>Shell Aliases and Magic Commands</h2>"
   ]
  },
  {
   "cell_type": "code",
   "execution_count": 1,
   "metadata": {},
   "outputs": [],
   "source": [
    "#%cd # Will allow you to change your working directory."
   ]
  },
  {
   "cell_type": "code",
   "execution_count": 4,
   "metadata": {},
   "outputs": [
    {
     "name": "stdout",
     "output_type": "stream",
     "text": [
      "\n",
      "Automagic is ON, % prefix IS NOT needed for line magics.\n"
     ]
    }
   ],
   "source": [
    "%automagic 1 # Toggle automagic on by using a number one instead of a zero."
   ]
  },
  {
   "cell_type": "code",
   "execution_count": 5,
   "metadata": {},
   "outputs": [
    {
     "data": {
      "text/plain": [
       "'/home/user/Module 02'"
      ]
     },
     "execution_count": 5,
     "metadata": {},
     "output_type": "execute_result"
    }
   ],
   "source": [
    "pwd # This is a comment not exected in python. pwd prints your working directory."
   ]
  },
  {
   "cell_type": "code",
   "execution_count": 6,
   "metadata": {},
   "outputs": [
    {
     "name": "stdout",
     "output_type": "stream",
     "text": [
      "2017-09-05-082150.term    M02PA_Jupyter.ipynb           integrator.py\r\n",
      "2017-09-07-092049.term    M02PB_Python_Functions.ipynb  python-logo-large.jpg\r\n",
      "L02_Basic_Notebook.ipynb  \u001b[0m\u001b[01;34m__pycache__\u001b[0m/                  \u001b[01;32mtest.sh\u001b[0m*\r\n"
     ]
    }
   ],
   "source": [
    "ls  # \"lists\" your current directory files and folders"
   ]
  },
  {
   "cell_type": "markdown",
   "metadata": {},
   "source": [
    "You can use exclamation points to call unix commands if you are using a unix-based operating system."
   ]
  },
  {
   "cell_type": "code",
   "execution_count": 0,
   "metadata": {},
   "outputs": [],
   "source": [
    "!pwd"
   ]
  },
  {
   "cell_type": "code",
   "execution_count": 0,
   "metadata": {},
   "outputs": [],
   "source": [
    "message = 'The jupyter notebook is great!'\n",
    "# note: the echo command does not run on Windows, it's a unix command.\n",
    "!echo $message"
   ]
  },
  {
   "cell_type": "markdown",
   "metadata": {},
   "source": [
    "For a complete listing of line and cell magics evoke the command below:"
   ]
  },
  {
   "cell_type": "code",
   "execution_count": 0,
   "metadata": {},
   "outputs": [],
   "source": [
    "lsmagic # This command gives a complete listing of line and cell magic commands available."
   ]
  },
  {
   "cell_type": "markdown",
   "metadata": {},
   "source": [
    "This means we can write shell scripts within the notebook environment."
   ]
  },
  {
   "cell_type": "markdown",
   "metadata": {},
   "source": [
    "<h2>Shell Scripting in Jupyter</h2>"
   ]
  },
  {
   "cell_type": "code",
   "execution_count": 0,
   "metadata": {},
   "outputs": [],
   "source": [
    "%%bash\n",
    "for i in a b c;\n",
    "do\n",
    "echo $i\n",
    "done"
   ]
  },
  {
   "cell_type": "code",
   "execution_count": 0,
   "metadata": {},
   "outputs": [],
   "source": [
    "%%bash\n",
    "./test.sh param1 param2"
   ]
  },
  {
   "cell_type": "markdown",
   "metadata": {},
   "source": [
    "<h2>Generate Inline Plots</h2>"
   ]
  },
  {
   "cell_type": "markdown",
   "metadata": {},
   "source": [
    "<p>**NB:** For plots with matplotlib, do *not* execute the next below if you do not have matplotlib installed or didn't call the `%matplolib` magic, as the code will not work.</p>"
   ]
  },
  {
   "cell_type": "code",
   "execution_count": 0,
   "metadata": {},
   "outputs": [],
   "source": [
    "%matplotlib inline # Magic command not required in cocalc.com, but must be used in your local installation."
   ]
  },
  {
   "cell_type": "code",
   "execution_count": 0,
   "metadata": {},
   "outputs": [],
   "source": [
    "import matplotlib.pyplot as plt\n",
    "import numpy as np\n",
    "\n",
    "x = np.linspace(0, 3*np.pi, 500)     #linspace gives us 500 equally spaced numbers between zero and 3 pi\n",
    "plt.plot(x, np.sin(x**2),'r-')\n",
    "plt.title('My Line Python');"
   ]
  },
  {
   "cell_type": "markdown",
   "metadata": {},
   "source": [
    "<h2>Python Variable Types</h2>\n",
    "\n",
    "<h3>Strings</h3>\n",
    "<p>Strings in Python are identified as a contiguous set of characters in between quotation marks (e.g. \"string\") , apostrophes (e.g. 'string') or sets of three apostrophes (e.g. '''string'''). Subsets of strings can be taken using the slice operator ( [ ] and [ : ] ) with indexes starting at 0 in the beginning of the string and working their way from -1 at the end.</p>\n",
    "\n",
    "<p>The plus ( + ) sign is the string concatenation operator and the asterisk ( * ) is the repetition operator. For example:</p>"
   ]
  },
  {
   "cell_type": "code",
   "execution_count": 0,
   "metadata": {},
   "outputs": [],
   "source": [
    "str = 'Hola el mundo!\\n'\n",
    "\n",
    "#print(str)          # Prints complete string\n",
    "#print(str[0])       # Prints first character of the string\n",
    "#print(str[2:])     # Prints characters starting from 3rd to 5th\n",
    "#print(str[2:-1])    # Prints string starting from 3rd character; -1 leaves off last character\n",
    "#print(str * 2)      # Prints string two times\n",
    "print(str + \"TEST\") # Prints concatenated string"
   ]
  },
  {
   "cell_type": "markdown",
   "metadata": {},
   "source": [
    "<h3>Numbers</h3>\n",
    "<p>Number data types store numeric values. They are immutable data types which means that changing the value of a number data type results in a newly allocated object.</p>"
   ]
  },
  {
   "cell_type": "code",
   "execution_count": 0,
   "metadata": {},
   "outputs": [],
   "source": [
    "x=0\n",
    "print(type(x))\n",
    "a = b = c = 1.53\n",
    "print(x, a, round(b), int(c)) # Round is typical rounding, int gets rid of stuff left of the decimal\n",
    "print(type(b),type(round(b))) # N.B. round creates an integer."
   ]
  },
  {
   "cell_type": "markdown",
   "metadata": {},
   "source": [
    "<h3>Lists</h3>\n",
    "<p>Lists are the most versatile of Python's compound data types. A list contains items separated by commas and enclosed within square brackets ( [ ] ). To some extent, lists are similar to arrays in C. One difference between them is that all the items belonging to a list can be of different data type.</p>\n",
    "\n",
    "<p>The values stored in a list can be accessed using the slice operator ( [ ] and [ : ] ) with indexes starting at 0 in the beginning of the list and working their way to end -1. The plus ( + ) sign is the list concatenation operator, and the asterisk ( * ) is the repetition operator. For example:</p>"
   ]
  },
  {
   "cell_type": "code",
   "execution_count": 0,
   "metadata": {},
   "outputs": [],
   "source": [
    "list = [ 'abcd', 786 , 2.23, 'apples', 70.2 ]  # Lists use brackets\n",
    "tinylist = [123, 'apples']\n",
    "\n",
    "print(list)            # Prints complete list\n",
    "print(list[0])         # Prints first element of the list\n",
    "print(list[1:3])       # Prints elements starting from 2nd till 3rd; includes first element, upper bound not inclusive\n",
    "print(list[2:])        # Prints elements starting from 3rd element\n",
    "print(tinylist * 2)    # Prints list two times\n",
    "#print(list + tinylist) # Prints concatenated lists"
   ]
  },
  {
   "cell_type": "markdown",
   "metadata": {},
   "source": [
    "<h3>Tuples</h3>\n",
    "<p>A tuple is another sequence data type that is similar to the list. A tuple consists of a number of values separated by commas. Unlike lists, however, tuples are enclosed within parentheses.</p>\n",
    "\n",
    "<p>The main differences between lists and tuples are: Lists are enclosed in brackets ( [ ] ) and their elements and size can be changed, while tuples are shown as enclosed in parentheses ( ( ) ) and cannot be updated. Tuples can be thought of as read-only lists. For example:</p>"
   ]
  },
  {
   "cell_type": "code",
   "execution_count": 0,
   "metadata": {},
   "outputs": [],
   "source": [
    "tuple = ('abcd', 786 , 2.23, 'oranges', 70.2, )  #Tuples require commas\n",
    "tinytuple = (123, 'oranges')\n",
    "\n",
    "print(tuple)           # Prints complete list\n",
    "print(tuple[0])        # Prints first element of the list\n",
    "print(tuple[1:3])      # Prints elements starting from 2nd till 3rd \n",
    "print(tuple[2:])       # Prints elements starting from 3rd element\n",
    "print(tinytuple * 2)   # Prints list two times\n",
    "print(tuple + tinytuple) # Prints concatenated lists"
   ]
  },
  {
   "cell_type": "markdown",
   "metadata": {},
   "source": [
    "<p>Try the following. What happens? Why?</p>"
   ]
  },
  {
   "cell_type": "code",
   "execution_count": 0,
   "metadata": {},
   "outputs": [],
   "source": [
    "tuple = ( 'abcd', 786 , 2.23, 'apples', 70.2  ) #parenthesis\n",
    "list = [ 'abcd', 786 , 2.23, 'apples', 70.2  ]  #brackets\n",
    "#tuple[2] = 1000    # Invalid syntax with tuple,\n",
    "#cannot add a tuple, it doesnt work like a list\n",
    "list[2] = 1000     # Valid syntax with list\n",
    "\n",
    "print(list)"
   ]
  },
  {
   "cell_type": "markdown",
   "metadata": {},
   "source": [
    "<h3>Dictionaries</h3>\n",
    "<p>Python's dictionaries are an associative array, or a structure that maps keys to values. A dictionary key can be almost any Python type, but are usually numbers or strings. The values can be any arbitrary Python object.</p>\n",
    "\n",
    "<p>Dictionaries have no concept of order among elements. It is incorrect to say that the elements are \"out of order\"; they are simply unordered.</p>\n",
    "\n",
    "<p>Dictionaries are enclosed by curly brackets ( { } ) and values can be assigned and accessed using square brackets ( [ ] ). For example:</p>"
   ]
  },
  {
   "cell_type": "code",
   "execution_count": 0,
   "metadata": {},
   "outputs": [],
   "source": [
    "dict = {}\n",
    "dict['one'] = \"This is one\"\n",
    "dict[2]     = \"This is two\"\n",
    "\n",
    "tinydict = {'name': 'john','code':6734, 'dept': 'sales'}\n",
    "\n",
    "\n",
    "print(dict['one'])       # Prints value for 'one' key\n",
    "print(dict[2])           # Prints value for 2 key\n",
    "print(tinydict)          # Prints complete dictionary\n",
    "print(tinydict.keys())   # Prints all the keys\n",
    "print(tinydict.values()) # Prints all the values"
   ]
  },
  {
   "cell_type": "markdown",
   "metadata": {},
   "source": [
    "<h3>Converting Between Variable Types</h3>\n",
    "\n",
    "|Function | Description|\n",
    "|--------|:---------:|\n",
    "|`int(x [,base])` | Converts x to a long integer. Base specifies the base if x is a string, i.e. Unicode, etc.|\n",
    "|`float(x)` | Converts x to a floating-point number.|\n",
    "|`complex(real [,imag])` | Creates a complex number.|\n",
    "|`str(x)` | Converts object x to a string representation.|\n",
    "|`eval(str)` | Evaluates a string and returns an object.|\n",
    "|`tuple(s)` | Converts s to a tuple.|\n",
    "|`list(s)` | Converts s to a list.|\n",
    "|`dict(d)` | Creates a dictionary. d must be a sequence of (key,value) tuples.|\n",
    "|`chr(x)` | Converts an integer to a character.|\n",
    "|`ord(x)` | Converts a single character to its integer value.|\n",
    "\n",
    "\n"
   ]
  },
  {
   "cell_type": "markdown",
   "metadata": {},
   "source": [
    "<h2>Errors</h2>\n",
    "<p>Errors are shown in informative ways:</p>"
   ]
  },
  {
   "cell_type": "code",
   "execution_count": 0,
   "metadata": {},
   "outputs": [],
   "source": [
    "%run non_existent_file"
   ]
  },
  {
   "cell_type": "code",
   "execution_count": 0,
   "metadata": {},
   "outputs": [],
   "source": [
    "x = 1\n",
    "y = 4\n",
    "z = y/(1-x)"
   ]
  },
  {
   "cell_type": "markdown",
   "metadata": {},
   "source": [
    "<p>When Jupyter needs to display additional information it will automatically invoke a pager at the bottom of the screen: </p>"
   ]
  },
  {
   "cell_type": "code",
   "execution_count": 0,
   "metadata": {
    "scrolled": true
   },
   "outputs": [],
   "source": [
    "magic"
   ]
  },
  {
   "cell_type": "markdown",
   "metadata": {},
   "source": [
    "## Non-blocking output of kernel\n",
    "\n",
    "If you execute the next cell, you will see the output arriving as it is generated, not all at the end."
   ]
  },
  {
   "cell_type": "code",
   "execution_count": 0,
   "metadata": {},
   "outputs": [],
   "source": [
    "import time, sys\n",
    "for i in range(8):\n",
    "    print(i ,)\n",
    "    time.sleep(0.5)"
   ]
  },
  {
   "cell_type": "markdown",
   "metadata": {},
   "source": [
    "<h2>Markdown cells can contain formatted text and code</h2> \n",
    "\n",
    "In markdown and/or html\n",
    "\n",
    "You can *italicize*, **boldface**\n",
    "\n",
    "* build\n",
    "* lists\n",
    "\n",
    "and embed code meant for illustration instead of execution in Python:\n",
    "\n",
    "    def f(x):\n",
    "        \"\"\"a docstring\"\"\"\n",
    "        return x**2\n",
    "\n",
    "or other languages:\n",
    "\n",
    "    if (i=0; i<n; i++) {\n",
    "      printf(\"hello %d\\n\", i);\n",
    "      x += 4;\n",
    "    }\n"
   ]
  },
  {
   "cell_type": "markdown",
   "metadata": {},
   "source": [
    "Courtesy of MathJax, you can include mathematical expressions both inline: \n",
    "$e^{i\\pi} + 1 = 0$  and displayed:\n",
    "\n",
    "$$e^x=\\sum_{i=0}^\\infty \\frac{1}{i!}x^i$$"
   ]
  },
  {
   "cell_type": "markdown",
   "metadata": {},
   "source": [
    "<h2>Rich Displays</h2> \n",
    "\n",
    "<p>Jupyter notebooks can display anyting a browser can.</p>\n",
    "\n",
    "<p>Note that we have an actual protocol for this, see the `display_protocol` notebook for further details.</p>\n",
    "\n",
    "<h3>Images</h3>"
   ]
  },
  {
   "cell_type": "code",
   "execution_count": 0,
   "metadata": {},
   "outputs": [],
   "source": [
    "from IPython.core.display import Image\n",
    "Image('python-logo-large.jpg')"
   ]
  },
  {
   "cell_type": "markdown",
   "metadata": {},
   "source": [
    "<p>An image can also be displayed from raw data or a url</p>"
   ]
  },
  {
   "cell_type": "code",
   "execution_count": 0,
   "metadata": {},
   "outputs": [],
   "source": [
    "Image(url='https://www.python.org/static/community_logos/python-logo-master-v3-TM.png')"
   ]
  },
  {
   "cell_type": "markdown",
   "metadata": {},
   "source": [
    "<p>SVG images are also supported out of the box (since modern browsers do a good job of rendering them):</p>"
   ]
  },
  {
   "cell_type": "code",
   "execution_count": 0,
   "metadata": {},
   "outputs": [],
   "source": [
    "from IPython.core.display import SVG\n",
    "SVG(url='https://www.djangoproject.com/s/img/logos/django-logo-positive.svg')"
   ]
  },
  {
   "cell_type": "markdown",
   "metadata": {},
   "source": [
    "<h3>Video</h3>"
   ]
  },
  {
   "cell_type": "markdown",
   "metadata": {},
   "source": [
    "<p>And more exotic objects can also be displayed, as long as their representation supports \n",
    "the IPython display protocol.</p>\n",
    "\n",
    "<p>For example, videos hosted externally on YouTube are easy to load (and writing a similar wrapper for other hosted content is trivial):</p>"
   ]
  },
  {
   "cell_type": "code",
   "execution_count": 0,
   "metadata": {},
   "outputs": [],
   "source": [
    "from IPython.lib.display import YouTubeVideo\n",
    "# a talk about IPython at Sage Days at U. Washington, Seattle.\n",
    "# Video credit: William Stein.\n",
    "YouTubeVideo('1j_HxD4iLn8')"
   ]
  },
  {
   "cell_type": "markdown",
   "metadata": {},
   "source": [
    "<h3>Mathematics</h3>\n",
    "\n",
    "<p>And we also support the display of mathematical expressions typeset in LaTeX, which is rendered in the browser thanks to the [MathJax library](http://mathjax.org).  </p>\n",
    "\n",
    "<p>Note that this is *different* from the above examples.  Above we were typing mathematical expressions in Markdown cells (along with normal text) and letting the browser render them; now we are displaying the output of a Python computation as a LaTeX expression wrapped by the `Math()` object so the browser renders it: "
   ]
  },
  {
   "cell_type": "code",
   "execution_count": 0,
   "metadata": {},
   "outputs": [],
   "source": [
    "from IPython.core.display import Math\n",
    "Math(r'$F(k) = \\int_{-\\infty}^{\\infty} f(x) e^{2\\pi i k} dx$')"
   ]
  },
  {
   "cell_type": "markdown",
   "metadata": {},
   "source": [
    "<h2>Loading external codes</h2>\n",
    "* Drag and drop a ``.py`` in the dashboard\n",
    "* Use ``%loadpy`` with any local or remote url: [the Matplotlib Gallery!](http://matplotlib.sourceforge.net/gallery.html)\n",
    "\n",
    "In this notebook we've kept the output saved so you can see the result, but you should run the next\n",
    "cell yourself (with an active internet connection)."
   ]
  },
  {
   "cell_type": "code",
   "execution_count": 0,
   "metadata": {},
   "outputs": [],
   "source": [
    "# %load http://matplotlib.org/mpl_examples/style_sheets/plot_dark_background.py\n",
    "\"\"\"\n",
    "===========================\n",
    "Dark background style sheet\n",
    "===========================\n",
    "\n",
    "This example demonstrates the \"dark_background\" style, which uses white for\n",
    "elements that are typically black (text, borders, etc). Note that not all plot\n",
    "elements default to colors defined by an rc parameter.\n",
    "\n",
    "\"\"\"\n",
    "import numpy as np\n",
    "import matplotlib.pyplot as plt\n",
    "\n",
    "plt.style.use('dark_background')\n",
    "\n",
    "fig, ax = plt.subplots()\n",
    "\n",
    "L = 6\n",
    "x = np.linspace(0, L)\n",
    "ncolors = len(plt.rcParams['axes.prop_cycle'])\n",
    "shift = np.linspace(0, L, ncolors, endpoint=False)\n",
    "for s in shift:\n",
    "    ax.plot(x, np.sin(x + s), 'o-')\n",
    "ax.set_xlabel('x-axis')\n",
    "ax.set_ylabel('y-axis')\n",
    "ax.set_title(\"'dark_background' style sheet\")\n",
    "\n",
    "plt.show()\n"
   ]
  },
  {
   "cell_type": "markdown",
   "metadata": {},
   "source": [
    "<p>You can also paste blocks of input with prompt markers, such as those from\n",
    "<a href=\"http://docs.python.org/tutorial/interpreter.html#interactive-mode\">the official Python tutorial</a> </p>"
   ]
  },
  {
   "cell_type": "code",
   "execution_count": 0,
   "metadata": {},
   "outputs": [],
   "source": [
    ">>> the_world_is_flat = 1\n",
    ">>> if the_world_is_flat:\n",
    "...     print(\"Be careful not to fall off!\")"
   ]
  },
  {
   "cell_type": "code",
   "execution_count": 0,
   "metadata": {},
   "outputs": [],
   "source": []
  }
 ],
 "metadata": {
  "kernelspec": {
   "display_name": "Python 3",
   "language": "python",
   "name": "python3"
  },
  "language_info": {
   "codemirror_mode": {
    "name": "ipython",
    "version": 3
   },
   "file_extension": ".py",
   "mimetype": "text/x-python",
   "name": "python",
   "nbconvert_exporter": "python",
   "pygments_lexer": "ipython3",
   "version": "3.5.1"
  },
  "name": "Week 1 Exercise 1 scripts_examples_notebook_tour.ipynb"
 },
 "nbformat": 4,
 "nbformat_minor": 1
}
