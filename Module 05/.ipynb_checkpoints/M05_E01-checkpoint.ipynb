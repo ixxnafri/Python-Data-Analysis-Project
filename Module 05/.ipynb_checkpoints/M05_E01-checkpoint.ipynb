{
 "cells": [
  {
   "cell_type": "markdown",
   "metadata": {},
   "source": [
    "# Module 05: Review and Formatting"
   ]
  },
  {
   "cell_type": "code",
   "execution_count": 1,
   "metadata": {
    "collapsed": true
   },
   "outputs": [],
   "source": [
    "import numpy as np\n",
    "import pandas as pd"
   ]
  },
  {
   "cell_type": "markdown",
   "metadata": {},
   "source": [
    "## What's a variable?"
   ]
  },
  {
   "cell_type": "code",
   "execution_count": 2,
   "metadata": {},
   "outputs": [
    {
     "name": "stdout",
     "output_type": "stream",
     "text": [
      "hello\n"
     ]
    }
   ],
   "source": [
    "x = 'hello'\n",
    "print('hello')"
   ]
  },
  {
   "cell_type": "code",
   "execution_count": 3,
   "metadata": {},
   "outputs": [
    {
     "data": {
      "text/plain": [
       "'hello'"
      ]
     },
     "execution_count": 3,
     "metadata": {},
     "output_type": "execute_result"
    }
   ],
   "source": [
    "x"
   ]
  },
  {
   "cell_type": "markdown",
   "metadata": {},
   "source": [
    "## How to print in Jupyter?"
   ]
  },
  {
   "cell_type": "code",
   "execution_count": 4,
   "metadata": {},
   "outputs": [
    {
     "name": "stdout",
     "output_type": "stream",
     "text": [
      "hello\n"
     ]
    },
    {
     "data": {
      "text/plain": [
       "'hello'"
      ]
     },
     "execution_count": 4,
     "metadata": {},
     "output_type": "execute_result"
    }
   ],
   "source": [
    "print(x)\n",
    "x"
   ]
  },
  {
   "cell_type": "markdown",
   "metadata": {},
   "source": [
    "## Basic types: String? Integer? Float?"
   ]
  },
  {
   "cell_type": "code",
   "execution_count": 5,
   "metadata": {
    "collapsed": true
   },
   "outputs": [],
   "source": [
    "astr = 'yellow'\n",
    "another_str = \"yellow\"\n",
    "aint = 4\n",
    "another2_str = str(aint)\n",
    "multiple_line_str = \"\"\"\n",
    "asgashdsj\n",
    "sdajfdfsjfdjjsfjdsjfsdj\n",
    "fsjfdsjsdfj\n",
    "\"\"\"\n",
    "\n",
    "afloat = 10.2"
   ]
  },
  {
   "cell_type": "code",
   "execution_count": 6,
   "metadata": {
    "collapsed": true
   },
   "outputs": [],
   "source": [
    "a = 10.\n",
    "b = '45'\n",
    "c = 1337"
   ]
  },
  {
   "cell_type": "markdown",
   "metadata": {},
   "source": [
    "## Higher level types: Tuple? List? Dictionary?"
   ]
  },
  {
   "cell_type": "code",
   "execution_count": 7,
   "metadata": {
    "collapsed": true
   },
   "outputs": [],
   "source": [
    "atup = (1, 2)\n",
    "alist = [5, 5, 6, 7]\n",
    "adict = {'key1': [6, 3], 'key2': [5, 4]}"
   ]
  },
  {
   "cell_type": "code",
   "execution_count": 8,
   "metadata": {},
   "outputs": [
    {
     "name": "stdout",
     "output_type": "stream",
     "text": [
      "<class 'tuple'>\n",
      "<class 'int'>\n",
      "<class 'tuple'>\n"
     ]
    }
   ],
   "source": [
    "atup_of_lists = ()\n",
    "atup_of_lists2 = (4)\n",
    "atup_of_lists3 = (4,)\n",
    "alist_of_tups = []\n",
    "adict_of_lists_and_tups = {}\n",
    "print(type(atup_of_lists))\n",
    "print(type(atup_of_lists2))\n",
    "print(type(atup_of_lists3))"
   ]
  },
  {
   "cell_type": "raw",
   "metadata": {
    "raw_mimetype": "text/x-python"
   },
   "source": [
    "in pandas, () will give you a series and dot values gives you nd.ararys"
   ]
  },
  {
   "cell_type": "markdown",
   "metadata": {},
   "source": [
    "## How to check the type?"
   ]
  },
  {
   "cell_type": "code",
   "execution_count": 9,
   "metadata": {},
   "outputs": [
    {
     "data": {
      "text/plain": [
       "tuple"
      ]
     },
     "execution_count": 9,
     "metadata": {},
     "output_type": "execute_result"
    }
   ],
   "source": [
    "type(atup)"
   ]
  },
  {
   "cell_type": "markdown",
   "metadata": {},
   "source": [
    "## Subscript/slice/subselect/reverse"
   ]
  },
  {
   "cell_type": "code",
   "execution_count": 10,
   "metadata": {
    "collapsed": true
   },
   "outputs": [],
   "source": [
    "atup_sub = atup[0]\n",
    "alist_sub = alist[2:3]\n",
    "adict_sub = adict['key1']"
   ]
  },
  {
   "cell_type": "markdown",
   "metadata": {},
   "source": [
    "## Other types: np.array?, pd.DataFrame?"
   ]
  },
  {
   "cell_type": "code",
   "execution_count": 11,
   "metadata": {
    "collapsed": true
   },
   "outputs": [],
   "source": [
    "nparr = np.array(alist)\n",
    "pddf = pd.DataFrame(adict)"
   ]
  },
  {
   "cell_type": "markdown",
   "metadata": {},
   "source": [
    "## One big difference between np.array and lists"
   ]
  },
  {
   "cell_type": "code",
   "execution_count": 12,
   "metadata": {
    "collapsed": true
   },
   "outputs": [],
   "source": [
    "alist_aint = alist * aint\n",
    "nparr_aint = nparr * aint"
   ]
  },
  {
   "cell_type": "code",
   "execution_count": 13,
   "metadata": {},
   "outputs": [
    {
     "name": "stdout",
     "output_type": "stream",
     "text": [
      "[5, 5, 6, 7, 5, 5, 6, 7, 5, 5, 6, 7, 5, 5, 6, 7]\n",
      "[20 20 24 28]\n"
     ]
    }
   ],
   "source": [
    "print(alist_aint)\n",
    "print(nparr_aint)"
   ]
  },
  {
   "cell_type": "markdown",
   "metadata": {
    "collapsed": true
   },
   "source": [
    "## Format a string!"
   ]
  },
  {
   "cell_type": "code",
   "execution_count": 17,
   "metadata": {},
   "outputs": [
    {
     "name": "stdout",
     "output_type": "stream",
     "text": [
      "0.00 0.00 0.00 0.00 0.00\n"
     ]
    }
   ],
   "source": [
    "floatlist = [0.,6.,7.,4.,6.]\n",
    "afloat_fmt = '{0:0.2f} {0:0.2f} {0:0.2f} {0:0.2f} {0:0.2f}'.format(*floatlist)\n",
    "aint_fmt = '{0:5d}'.format(aint)\n",
    "astr_fmt = '{0}'.format(astr)\n",
    "print(afloat_fmt)\n",
    "#For more visit https://docs.python.org/3/library/string.html#string-formatting "
   ]
  },
  {
   "cell_type": "code",
   "execution_count": 18,
   "metadata": {},
   "outputs": [
    {
     "name": "stdout",
     "output_type": "stream",
     "text": [
      "    5     5     5   101 \n",
      "    6     6     6   110 \n",
      "    7     7     7   111 \n",
      "    8     8    10  1000 \n",
      "    9     9    11  1001 \n",
      "   10     A    12  1010 \n",
      "   11     B    13  1011 \n"
     ]
    }
   ],
   "source": [
    "#https://docs.python.org/3/library/string.html#string-formatting\n",
    "width = 5\n",
    "for num in range(5,12): \n",
    "    for base in 'dXob':\n",
    "        print('{0:{width}{base}}'.format(num, base=base, width=width), end=' ')\n",
    "    print()\n"
   ]
  },
  {
   "cell_type": "markdown",
   "metadata": {},
   "source": [
    "\n",
    "### 1. Sorting a dictionary, printing formatted values.\n",
    "\n",
    "Write a python script to sort the annual-average global temperature anomaly values (contained in `aravg.ann.land_ocean.90S.90N.v4.0.1.201612.asc.txt` in into a new dictionary in descending order.\n",
    "\n",
    "The script should print the top 10 warmest years to a file called 'top10warmest.txt', including all of the following information:\n",
    "\n",
    "The output should look like this:\n",
    "```\n",
    "Ranking      Year     Temperature Anomaly (degrees C)      Temperature Anomaly (degrees F)\n",
    "1.           1745     10.0                                 28.0\n",
    "2. (etc.)\n",
    "```\n"
   ]
  },
  {
   "cell_type": "code",
   "execution_count": 35,
   "metadata": {
    "scrolled": true
   },
   "outputs": [
    {
     "name": "stderr",
     "output_type": "stream",
     "text": [
      "/home/nbuser/anaconda3_410/lib/python3.5/site-packages/ipykernel/__main__.py:1: ParserWarning: Falling back to the 'python' engine because the 'c' engine does not support regex separators (separators > 1 char and different from '\\s+' are interpreted as regex); you can avoid this warning by specifying engine='python'.\n",
      "  if __name__ == '__main__':\n"
     ]
    },
    {
     "data": {
      "text/html": [
       "<div>\n",
       "<table border=\"1\" class=\"dataframe\">\n",
       "  <thead>\n",
       "    <tr style=\"text-align: right;\">\n",
       "      <th></th>\n",
       "      <th>0</th>\n",
       "      <th>1</th>\n",
       "      <th>2</th>\n",
       "      <th>3</th>\n",
       "      <th>4</th>\n",
       "      <th>5</th>\n",
       "    </tr>\n",
       "  </thead>\n",
       "  <tbody>\n",
       "    <tr>\n",
       "      <th>136</th>\n",
       "      <td>2016</td>\n",
       "      <td>0.690951</td>\n",
       "      <td>0.005897</td>\n",
       "      <td>0.000180</td>\n",
       "      <td>0.000002</td>\n",
       "      <td>0.005715</td>\n",
       "    </tr>\n",
       "    <tr>\n",
       "      <th>135</th>\n",
       "      <td>2015</td>\n",
       "      <td>0.654480</td>\n",
       "      <td>0.005897</td>\n",
       "      <td>0.000180</td>\n",
       "      <td>0.000002</td>\n",
       "      <td>0.005715</td>\n",
       "    </tr>\n",
       "    <tr>\n",
       "      <th>134</th>\n",
       "      <td>2014</td>\n",
       "      <td>0.495471</td>\n",
       "      <td>0.005897</td>\n",
       "      <td>0.000180</td>\n",
       "      <td>0.000002</td>\n",
       "      <td>0.005715</td>\n",
       "    </tr>\n",
       "    <tr>\n",
       "      <th>130</th>\n",
       "      <td>2010</td>\n",
       "      <td>0.456035</td>\n",
       "      <td>0.005873</td>\n",
       "      <td>0.000180</td>\n",
       "      <td>0.000002</td>\n",
       "      <td>0.005691</td>\n",
       "    </tr>\n",
       "    <tr>\n",
       "      <th>133</th>\n",
       "      <td>2013</td>\n",
       "      <td>0.422519</td>\n",
       "      <td>0.005897</td>\n",
       "      <td>0.000180</td>\n",
       "      <td>0.000002</td>\n",
       "      <td>0.005715</td>\n",
       "    </tr>\n",
       "    <tr>\n",
       "      <th>125</th>\n",
       "      <td>2005</td>\n",
       "      <td>0.413196</td>\n",
       "      <td>0.005988</td>\n",
       "      <td>0.000846</td>\n",
       "      <td>0.000002</td>\n",
       "      <td>0.005139</td>\n",
       "    </tr>\n",
       "    <tr>\n",
       "      <th>129</th>\n",
       "      <td>2009</td>\n",
       "      <td>0.391374</td>\n",
       "      <td>0.005832</td>\n",
       "      <td>0.000180</td>\n",
       "      <td>0.000002</td>\n",
       "      <td>0.005651</td>\n",
       "    </tr>\n",
       "    <tr>\n",
       "      <th>118</th>\n",
       "      <td>1998</td>\n",
       "      <td>0.389096</td>\n",
       "      <td>0.004063</td>\n",
       "      <td>0.000306</td>\n",
       "      <td>0.000002</td>\n",
       "      <td>0.003755</td>\n",
       "    </tr>\n",
       "    <tr>\n",
       "      <th>132</th>\n",
       "      <td>2012</td>\n",
       "      <td>0.378706</td>\n",
       "      <td>0.005910</td>\n",
       "      <td>0.000180</td>\n",
       "      <td>0.000002</td>\n",
       "      <td>0.005728</td>\n",
       "    </tr>\n",
       "    <tr>\n",
       "      <th>123</th>\n",
       "      <td>2003</td>\n",
       "      <td>0.368062</td>\n",
       "      <td>0.005153</td>\n",
       "      <td>0.000418</td>\n",
       "      <td>0.000002</td>\n",
       "      <td>0.004733</td>\n",
       "    </tr>\n",
       "    <tr>\n",
       "      <th>126</th>\n",
       "      <td>2006</td>\n",
       "      <td>0.367114</td>\n",
       "      <td>0.006709</td>\n",
       "      <td>0.001406</td>\n",
       "      <td>0.000002</td>\n",
       "      <td>0.005300</td>\n",
       "    </tr>\n",
       "    <tr>\n",
       "      <th>127</th>\n",
       "      <td>2007</td>\n",
       "      <td>0.364671</td>\n",
       "      <td>0.006942</td>\n",
       "      <td>0.001492</td>\n",
       "      <td>0.000002</td>\n",
       "      <td>0.005448</td>\n",
       "    </tr>\n",
       "    <tr>\n",
       "      <th>122</th>\n",
       "      <td>2002</td>\n",
       "      <td>0.356931</td>\n",
       "      <td>0.004976</td>\n",
       "      <td>0.000440</td>\n",
       "      <td>0.000002</td>\n",
       "      <td>0.004535</td>\n",
       "    </tr>\n",
       "    <tr>\n",
       "      <th>131</th>\n",
       "      <td>2011</td>\n",
       "      <td>0.333460</td>\n",
       "      <td>0.005895</td>\n",
       "      <td>0.000180</td>\n",
       "      <td>0.000002</td>\n",
       "      <td>0.005713</td>\n",
       "    </tr>\n",
       "    <tr>\n",
       "      <th>124</th>\n",
       "      <td>2004</td>\n",
       "      <td>0.332990</td>\n",
       "      <td>0.005798</td>\n",
       "      <td>0.000865</td>\n",
       "      <td>0.000002</td>\n",
       "      <td>0.004931</td>\n",
       "    </tr>\n",
       "    <tr>\n",
       "      <th>121</th>\n",
       "      <td>2001</td>\n",
       "      <td>0.301966</td>\n",
       "      <td>0.004659</td>\n",
       "      <td>0.000326</td>\n",
       "      <td>0.000002</td>\n",
       "      <td>0.004331</td>\n",
       "    </tr>\n",
       "    <tr>\n",
       "      <th>128</th>\n",
       "      <td>2008</td>\n",
       "      <td>0.296598</td>\n",
       "      <td>0.006250</td>\n",
       "      <td>0.000683</td>\n",
       "      <td>0.000002</td>\n",
       "      <td>0.005565</td>\n",
       "    </tr>\n",
       "    <tr>\n",
       "      <th>117</th>\n",
       "      <td>1997</td>\n",
       "      <td>0.273332</td>\n",
       "      <td>0.003721</td>\n",
       "      <td>0.000103</td>\n",
       "      <td>0.000003</td>\n",
       "      <td>0.003615</td>\n",
       "    </tr>\n",
       "    <tr>\n",
       "      <th>115</th>\n",
       "      <td>1995</td>\n",
       "      <td>0.212412</td>\n",
       "      <td>0.003565</td>\n",
       "      <td>0.000065</td>\n",
       "      <td>0.000005</td>\n",
       "      <td>0.003496</td>\n",
       "    </tr>\n",
       "    <tr>\n",
       "      <th>119</th>\n",
       "      <td>1999</td>\n",
       "      <td>0.198506</td>\n",
       "      <td>0.004403</td>\n",
       "      <td>0.000488</td>\n",
       "      <td>0.000002</td>\n",
       "      <td>0.003913</td>\n",
       "    </tr>\n",
       "    <tr>\n",
       "      <th>110</th>\n",
       "      <td>1990</td>\n",
       "      <td>0.187487</td>\n",
       "      <td>0.003395</td>\n",
       "      <td>0.000050</td>\n",
       "      <td>0.000008</td>\n",
       "      <td>0.003337</td>\n",
       "    </tr>\n",
       "    <tr>\n",
       "      <th>120</th>\n",
       "      <td>2000</td>\n",
       "      <td>0.180884</td>\n",
       "      <td>0.004584</td>\n",
       "      <td>0.000466</td>\n",
       "      <td>0.000001</td>\n",
       "      <td>0.004117</td>\n",
       "    </tr>\n",
       "    <tr>\n",
       "      <th>111</th>\n",
       "      <td>1991</td>\n",
       "      <td>0.160126</td>\n",
       "      <td>0.003347</td>\n",
       "      <td>0.000025</td>\n",
       "      <td>0.000007</td>\n",
       "      <td>0.003315</td>\n",
       "    </tr>\n",
       "    <tr>\n",
       "      <th>108</th>\n",
       "      <td>1988</td>\n",
       "      <td>0.130362</td>\n",
       "      <td>0.003611</td>\n",
       "      <td>0.000099</td>\n",
       "      <td>0.000010</td>\n",
       "      <td>0.003501</td>\n",
       "    </tr>\n",
       "    <tr>\n",
       "      <th>107</th>\n",
       "      <td>1987</td>\n",
       "      <td>0.124229</td>\n",
       "      <td>0.003701</td>\n",
       "      <td>0.000145</td>\n",
       "      <td>0.000012</td>\n",
       "      <td>0.003544</td>\n",
       "    </tr>\n",
       "    <tr>\n",
       "      <th>103</th>\n",
       "      <td>1983</td>\n",
       "      <td>0.095712</td>\n",
       "      <td>0.003492</td>\n",
       "      <td>0.000025</td>\n",
       "      <td>0.000015</td>\n",
       "      <td>0.003452</td>\n",
       "    </tr>\n",
       "    <tr>\n",
       "      <th>114</th>\n",
       "      <td>1994</td>\n",
       "      <td>0.095534</td>\n",
       "      <td>0.003523</td>\n",
       "      <td>0.000069</td>\n",
       "      <td>0.000006</td>\n",
       "      <td>0.003448</td>\n",
       "    </tr>\n",
       "    <tr>\n",
       "      <th>116</th>\n",
       "      <td>1996</td>\n",
       "      <td>0.077443</td>\n",
       "      <td>0.003659</td>\n",
       "      <td>0.000107</td>\n",
       "      <td>0.000004</td>\n",
       "      <td>0.003549</td>\n",
       "    </tr>\n",
       "    <tr>\n",
       "      <th>101</th>\n",
       "      <td>1981</td>\n",
       "      <td>0.054510</td>\n",
       "      <td>0.003058</td>\n",
       "      <td>0.000025</td>\n",
       "      <td>0.000014</td>\n",
       "      <td>0.003019</td>\n",
       "    </tr>\n",
       "    <tr>\n",
       "      <th>109</th>\n",
       "      <td>1989</td>\n",
       "      <td>0.051671</td>\n",
       "      <td>0.003579</td>\n",
       "      <td>0.000118</td>\n",
       "      <td>0.000009</td>\n",
       "      <td>0.003452</td>\n",
       "    </tr>\n",
       "    <tr>\n",
       "      <th>...</th>\n",
       "      <td>...</td>\n",
       "      <td>...</td>\n",
       "      <td>...</td>\n",
       "      <td>...</td>\n",
       "      <td>...</td>\n",
       "      <td>...</td>\n",
       "    </tr>\n",
       "    <tr>\n",
       "      <th>38</th>\n",
       "      <td>1918</td>\n",
       "      <td>-0.453714</td>\n",
       "      <td>0.008369</td>\n",
       "      <td>0.000142</td>\n",
       "      <td>0.000009</td>\n",
       "      <td>0.008218</td>\n",
       "    </tr>\n",
       "    <tr>\n",
       "      <th>40</th>\n",
       "      <td>1920</td>\n",
       "      <td>-0.455879</td>\n",
       "      <td>0.008982</td>\n",
       "      <td>0.000408</td>\n",
       "      <td>0.000006</td>\n",
       "      <td>0.008568</td>\n",
       "    </tr>\n",
       "    <tr>\n",
       "      <th>5</th>\n",
       "      <td>1885</td>\n",
       "      <td>-0.457826</td>\n",
       "      <td>0.009687</td>\n",
       "      <td>0.001395</td>\n",
       "      <td>0.000939</td>\n",
       "      <td>0.007353</td>\n",
       "    </tr>\n",
       "    <tr>\n",
       "      <th>43</th>\n",
       "      <td>1923</td>\n",
       "      <td>-0.460941</td>\n",
       "      <td>0.010323</td>\n",
       "      <td>0.000982</td>\n",
       "      <td>0.000006</td>\n",
       "      <td>0.009336</td>\n",
       "    </tr>\n",
       "    <tr>\n",
       "      <th>26</th>\n",
       "      <td>1906</td>\n",
       "      <td>-0.462693</td>\n",
       "      <td>0.008677</td>\n",
       "      <td>0.000074</td>\n",
       "      <td>0.000222</td>\n",
       "      <td>0.008380</td>\n",
       "    </tr>\n",
       "    <tr>\n",
       "      <th>15</th>\n",
       "      <td>1895</td>\n",
       "      <td>-0.474304</td>\n",
       "      <td>0.008388</td>\n",
       "      <td>0.000055</td>\n",
       "      <td>0.001016</td>\n",
       "      <td>0.007317</td>\n",
       "    </tr>\n",
       "    <tr>\n",
       "      <th>42</th>\n",
       "      <td>1922</td>\n",
       "      <td>-0.475776</td>\n",
       "      <td>0.009347</td>\n",
       "      <td>0.000369</td>\n",
       "      <td>0.000006</td>\n",
       "      <td>0.008973</td>\n",
       "    </tr>\n",
       "    <tr>\n",
       "      <th>53</th>\n",
       "      <td>1933</td>\n",
       "      <td>-0.489210</td>\n",
       "      <td>0.011837</td>\n",
       "      <td>0.000287</td>\n",
       "      <td>0.000012</td>\n",
       "      <td>0.011538</td>\n",
       "    </tr>\n",
       "    <tr>\n",
       "      <th>22</th>\n",
       "      <td>1902</td>\n",
       "      <td>-0.491674</td>\n",
       "      <td>0.008631</td>\n",
       "      <td>0.000113</td>\n",
       "      <td>0.000536</td>\n",
       "      <td>0.007982</td>\n",
       "    </tr>\n",
       "    <tr>\n",
       "      <th>44</th>\n",
       "      <td>1924</td>\n",
       "      <td>-0.493936</td>\n",
       "      <td>0.010584</td>\n",
       "      <td>0.000893</td>\n",
       "      <td>0.000007</td>\n",
       "      <td>0.009685</td>\n",
       "    </tr>\n",
       "    <tr>\n",
       "      <th>7</th>\n",
       "      <td>1887</td>\n",
       "      <td>-0.494233</td>\n",
       "      <td>0.009668</td>\n",
       "      <td>0.001395</td>\n",
       "      <td>0.000969</td>\n",
       "      <td>0.007304</td>\n",
       "    </tr>\n",
       "    <tr>\n",
       "      <th>11</th>\n",
       "      <td>1891</td>\n",
       "      <td>-0.498518</td>\n",
       "      <td>0.008694</td>\n",
       "      <td>0.000312</td>\n",
       "      <td>0.001055</td>\n",
       "      <td>0.007327</td>\n",
       "    </tr>\n",
       "    <tr>\n",
       "      <th>18</th>\n",
       "      <td>1898</td>\n",
       "      <td>-0.499962</td>\n",
       "      <td>0.008386</td>\n",
       "      <td>0.000050</td>\n",
       "      <td>0.000822</td>\n",
       "      <td>0.007513</td>\n",
       "    </tr>\n",
       "    <tr>\n",
       "      <th>14</th>\n",
       "      <td>1894</td>\n",
       "      <td>-0.526128</td>\n",
       "      <td>0.008475</td>\n",
       "      <td>0.000129</td>\n",
       "      <td>0.001057</td>\n",
       "      <td>0.007289</td>\n",
       "    </tr>\n",
       "    <tr>\n",
       "      <th>36</th>\n",
       "      <td>1916</td>\n",
       "      <td>-0.538292</td>\n",
       "      <td>0.008156</td>\n",
       "      <td>0.000132</td>\n",
       "      <td>0.000016</td>\n",
       "      <td>0.008007</td>\n",
       "    </tr>\n",
       "    <tr>\n",
       "      <th>25</th>\n",
       "      <td>1905</td>\n",
       "      <td>-0.538421</td>\n",
       "      <td>0.008678</td>\n",
       "      <td>0.000131</td>\n",
       "      <td>0.000293</td>\n",
       "      <td>0.008255</td>\n",
       "    </tr>\n",
       "    <tr>\n",
       "      <th>49</th>\n",
       "      <td>1929</td>\n",
       "      <td>-0.543854</td>\n",
       "      <td>0.011893</td>\n",
       "      <td>0.000754</td>\n",
       "      <td>0.000006</td>\n",
       "      <td>0.011134</td>\n",
       "    </tr>\n",
       "    <tr>\n",
       "      <th>12</th>\n",
       "      <td>1892</td>\n",
       "      <td>-0.551539</td>\n",
       "      <td>0.008599</td>\n",
       "      <td>0.000206</td>\n",
       "      <td>0.001071</td>\n",
       "      <td>0.007321</td>\n",
       "    </tr>\n",
       "    <tr>\n",
       "      <th>37</th>\n",
       "      <td>1917</td>\n",
       "      <td>-0.559888</td>\n",
       "      <td>0.008236</td>\n",
       "      <td>0.000109</td>\n",
       "      <td>0.000013</td>\n",
       "      <td>0.008114</td>\n",
       "    </tr>\n",
       "    <tr>\n",
       "      <th>33</th>\n",
       "      <td>1913</td>\n",
       "      <td>-0.561557</td>\n",
       "      <td>0.007955</td>\n",
       "      <td>0.000025</td>\n",
       "      <td>0.000026</td>\n",
       "      <td>0.007904</td>\n",
       "    </tr>\n",
       "    <tr>\n",
       "      <th>13</th>\n",
       "      <td>1893</td>\n",
       "      <td>-0.566514</td>\n",
       "      <td>0.008469</td>\n",
       "      <td>0.000100</td>\n",
       "      <td>0.001073</td>\n",
       "      <td>0.007296</td>\n",
       "    </tr>\n",
       "    <tr>\n",
       "      <th>10</th>\n",
       "      <td>1890</td>\n",
       "      <td>-0.567318</td>\n",
       "      <td>0.008616</td>\n",
       "      <td>0.000259</td>\n",
       "      <td>0.001029</td>\n",
       "      <td>0.007329</td>\n",
       "    </tr>\n",
       "    <tr>\n",
       "      <th>32</th>\n",
       "      <td>1912</td>\n",
       "      <td>-0.574187</td>\n",
       "      <td>0.008045</td>\n",
       "      <td>0.000025</td>\n",
       "      <td>0.000031</td>\n",
       "      <td>0.007990</td>\n",
       "    </tr>\n",
       "    <tr>\n",
       "      <th>23</th>\n",
       "      <td>1903</td>\n",
       "      <td>-0.582231</td>\n",
       "      <td>0.008863</td>\n",
       "      <td>0.000335</td>\n",
       "      <td>0.000457</td>\n",
       "      <td>0.008071</td>\n",
       "    </tr>\n",
       "    <tr>\n",
       "      <th>27</th>\n",
       "      <td>1907</td>\n",
       "      <td>-0.615936</td>\n",
       "      <td>0.008826</td>\n",
       "      <td>0.000233</td>\n",
       "      <td>0.000161</td>\n",
       "      <td>0.008433</td>\n",
       "    </tr>\n",
       "    <tr>\n",
       "      <th>30</th>\n",
       "      <td>1910</td>\n",
       "      <td>-0.624261</td>\n",
       "      <td>0.008322</td>\n",
       "      <td>0.000025</td>\n",
       "      <td>0.000045</td>\n",
       "      <td>0.008251</td>\n",
       "    </tr>\n",
       "    <tr>\n",
       "      <th>24</th>\n",
       "      <td>1904</td>\n",
       "      <td>-0.664719</td>\n",
       "      <td>0.008868</td>\n",
       "      <td>0.000330</td>\n",
       "      <td>0.000373</td>\n",
       "      <td>0.008165</td>\n",
       "    </tr>\n",
       "    <tr>\n",
       "      <th>29</th>\n",
       "      <td>1909</td>\n",
       "      <td>-0.671458</td>\n",
       "      <td>0.008504</td>\n",
       "      <td>0.000082</td>\n",
       "      <td>0.000069</td>\n",
       "      <td>0.008353</td>\n",
       "    </tr>\n",
       "    <tr>\n",
       "      <th>31</th>\n",
       "      <td>1911</td>\n",
       "      <td>-0.678564</td>\n",
       "      <td>0.008170</td>\n",
       "      <td>0.000025</td>\n",
       "      <td>0.000036</td>\n",
       "      <td>0.008110</td>\n",
       "    </tr>\n",
       "    <tr>\n",
       "      <th>28</th>\n",
       "      <td>1908</td>\n",
       "      <td>-0.684934</td>\n",
       "      <td>0.009014</td>\n",
       "      <td>0.000498</td>\n",
       "      <td>0.000109</td>\n",
       "      <td>0.008407</td>\n",
       "    </tr>\n",
       "  </tbody>\n",
       "</table>\n",
       "<p>137 rows × 6 columns</p>\n",
       "</div>"
      ],
      "text/plain": [
       "        0         1         2         3         4         5\n",
       "136  2016  0.690951  0.005897  0.000180  0.000002  0.005715\n",
       "135  2015  0.654480  0.005897  0.000180  0.000002  0.005715\n",
       "134  2014  0.495471  0.005897  0.000180  0.000002  0.005715\n",
       "130  2010  0.456035  0.005873  0.000180  0.000002  0.005691\n",
       "133  2013  0.422519  0.005897  0.000180  0.000002  0.005715\n",
       "125  2005  0.413196  0.005988  0.000846  0.000002  0.005139\n",
       "129  2009  0.391374  0.005832  0.000180  0.000002  0.005651\n",
       "118  1998  0.389096  0.004063  0.000306  0.000002  0.003755\n",
       "132  2012  0.378706  0.005910  0.000180  0.000002  0.005728\n",
       "123  2003  0.368062  0.005153  0.000418  0.000002  0.004733\n",
       "126  2006  0.367114  0.006709  0.001406  0.000002  0.005300\n",
       "127  2007  0.364671  0.006942  0.001492  0.000002  0.005448\n",
       "122  2002  0.356931  0.004976  0.000440  0.000002  0.004535\n",
       "131  2011  0.333460  0.005895  0.000180  0.000002  0.005713\n",
       "124  2004  0.332990  0.005798  0.000865  0.000002  0.004931\n",
       "121  2001  0.301966  0.004659  0.000326  0.000002  0.004331\n",
       "128  2008  0.296598  0.006250  0.000683  0.000002  0.005565\n",
       "117  1997  0.273332  0.003721  0.000103  0.000003  0.003615\n",
       "115  1995  0.212412  0.003565  0.000065  0.000005  0.003496\n",
       "119  1999  0.198506  0.004403  0.000488  0.000002  0.003913\n",
       "110  1990  0.187487  0.003395  0.000050  0.000008  0.003337\n",
       "120  2000  0.180884  0.004584  0.000466  0.000001  0.004117\n",
       "111  1991  0.160126  0.003347  0.000025  0.000007  0.003315\n",
       "108  1988  0.130362  0.003611  0.000099  0.000010  0.003501\n",
       "107  1987  0.124229  0.003701  0.000145  0.000012  0.003544\n",
       "103  1983  0.095712  0.003492  0.000025  0.000015  0.003452\n",
       "114  1994  0.095534  0.003523  0.000069  0.000006  0.003448\n",
       "116  1996  0.077443  0.003659  0.000107  0.000004  0.003549\n",
       "101  1981  0.054510  0.003058  0.000025  0.000014  0.003019\n",
       "109  1989  0.051671  0.003579  0.000118  0.000009  0.003452\n",
       "..    ...       ...       ...       ...       ...       ...\n",
       "38   1918 -0.453714  0.008369  0.000142  0.000009  0.008218\n",
       "40   1920 -0.455879  0.008982  0.000408  0.000006  0.008568\n",
       "5    1885 -0.457826  0.009687  0.001395  0.000939  0.007353\n",
       "43   1923 -0.460941  0.010323  0.000982  0.000006  0.009336\n",
       "26   1906 -0.462693  0.008677  0.000074  0.000222  0.008380\n",
       "15   1895 -0.474304  0.008388  0.000055  0.001016  0.007317\n",
       "42   1922 -0.475776  0.009347  0.000369  0.000006  0.008973\n",
       "53   1933 -0.489210  0.011837  0.000287  0.000012  0.011538\n",
       "22   1902 -0.491674  0.008631  0.000113  0.000536  0.007982\n",
       "44   1924 -0.493936  0.010584  0.000893  0.000007  0.009685\n",
       "7    1887 -0.494233  0.009668  0.001395  0.000969  0.007304\n",
       "11   1891 -0.498518  0.008694  0.000312  0.001055  0.007327\n",
       "18   1898 -0.499962  0.008386  0.000050  0.000822  0.007513\n",
       "14   1894 -0.526128  0.008475  0.000129  0.001057  0.007289\n",
       "36   1916 -0.538292  0.008156  0.000132  0.000016  0.008007\n",
       "25   1905 -0.538421  0.008678  0.000131  0.000293  0.008255\n",
       "49   1929 -0.543854  0.011893  0.000754  0.000006  0.011134\n",
       "12   1892 -0.551539  0.008599  0.000206  0.001071  0.007321\n",
       "37   1917 -0.559888  0.008236  0.000109  0.000013  0.008114\n",
       "33   1913 -0.561557  0.007955  0.000025  0.000026  0.007904\n",
       "13   1893 -0.566514  0.008469  0.000100  0.001073  0.007296\n",
       "10   1890 -0.567318  0.008616  0.000259  0.001029  0.007329\n",
       "32   1912 -0.574187  0.008045  0.000025  0.000031  0.007990\n",
       "23   1903 -0.582231  0.008863  0.000335  0.000457  0.008071\n",
       "27   1907 -0.615936  0.008826  0.000233  0.000161  0.008433\n",
       "30   1910 -0.624261  0.008322  0.000025  0.000045  0.008251\n",
       "24   1904 -0.664719  0.008868  0.000330  0.000373  0.008165\n",
       "29   1909 -0.671458  0.008504  0.000082  0.000069  0.008353\n",
       "31   1911 -0.678564  0.008170  0.000025  0.000036  0.008110\n",
       "28   1908 -0.684934  0.009014  0.000498  0.000109  0.008407\n",
       "\n",
       "[137 rows x 6 columns]"
      ]
     },
     "execution_count": 35,
     "metadata": {},
     "output_type": "execute_result"
    }
   ],
   "source": [
    "df = pd.read_csv('aravg.ann.land_ocean.90S.90N.v4.0.1.201612.asc.txt', header = None, sep='   ')\n",
    "lines = df.sort_values([1,0], ascending = False)\n",
    "\n",
    "tempc = lines[i] + 15. \n",
    "tempf = \n",
    "\n",
    "for i in range(10):\n",
    "    tempstr = '{0:i}           {0:i}     {0:2.0f}                                 {0:2.0f}'"
   ]
  },
  {
   "cell_type": "code",
   "execution_count": 20,
   "metadata": {
    "collapsed": true
   },
   "outputs": [],
   "source": []
  },
  {
   "cell_type": "code",
   "execution_count": null,
   "metadata": {
    "collapsed": true
   },
   "outputs": [],
   "source": []
  }
 ],
 "metadata": {
  "anaconda-cloud": {},
  "celltoolbar": "Raw Cell Format",
  "kernelspec": {
   "display_name": "Python 3",
   "language": "python",
   "name": "python3"
  },
  "language_info": {
   "codemirror_mode": {
    "name": "ipython",
    "version": 3
   },
   "file_extension": ".py",
   "mimetype": "text/x-python",
   "name": "python",
   "nbconvert_exporter": "python",
   "pygments_lexer": "ipython3",
   "version": "3.5.1"
  }
 },
 "nbformat": 4,
 "nbformat_minor": 1
}
