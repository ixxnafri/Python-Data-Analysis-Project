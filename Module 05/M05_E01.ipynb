{
 "cells": [
  {
   "cell_type": "markdown",
   "metadata": {},
   "source": [
    "# Module 05: Review and Formatting"
   ]
  },
  {
   "cell_type": "code",
   "execution_count": 1,
   "metadata": {
    "collapsed": true
   },
   "outputs": [],
   "source": [
    "import numpy as np\n",
    "import pandas as pd"
   ]
  },
  {
   "cell_type": "markdown",
   "metadata": {},
   "source": [
    "## What's a variable?"
   ]
  },
  {
   "cell_type": "code",
   "execution_count": 2,
   "metadata": {},
   "outputs": [
    {
     "name": "stdout",
     "output_type": "stream",
     "text": [
      "hello\n"
     ]
    }
   ],
   "source": [
    "x = 'hello'\n",
    "print('hello')"
   ]
  },
  {
   "cell_type": "code",
   "execution_count": 3,
   "metadata": {},
   "outputs": [
    {
     "data": {
      "text/plain": [
       "'hello'"
      ]
     },
     "execution_count": 3,
     "metadata": {},
     "output_type": "execute_result"
    }
   ],
   "source": [
    "x"
   ]
  },
  {
   "cell_type": "markdown",
   "metadata": {},
   "source": [
    "## How to print in Jupyter?"
   ]
  },
  {
   "cell_type": "code",
   "execution_count": 4,
   "metadata": {},
   "outputs": [
    {
     "name": "stdout",
     "output_type": "stream",
     "text": [
      "hello\n"
     ]
    },
    {
     "data": {
      "text/plain": [
       "'hello'"
      ]
     },
     "execution_count": 4,
     "metadata": {},
     "output_type": "execute_result"
    }
   ],
   "source": [
    "print(x)\n",
    "x"
   ]
  },
  {
   "cell_type": "markdown",
   "metadata": {},
   "source": [
    "## Basic types: String? Integer? Float?"
   ]
  },
  {
   "cell_type": "code",
   "execution_count": 5,
   "metadata": {
    "collapsed": true
   },
   "outputs": [],
   "source": [
    "astr = 'yellow'\n",
    "another_str = \"yellow\"\n",
    "aint = 4\n",
    "another2_str = str(aint)\n",
    "multiple_line_str = \"\"\"\n",
    "asgashdsj\n",
    "sdajfdfsjfdjjsfjdsjfsdj\n",
    "fsjfdsjsdfj\n",
    "\"\"\"\n",
    "\n",
    "afloat = 10.2"
   ]
  },
  {
   "cell_type": "code",
   "execution_count": 6,
   "metadata": {
    "collapsed": true
   },
   "outputs": [],
   "source": [
    "a = 10.\n",
    "b = '45'\n",
    "c = 1337"
   ]
  },
  {
   "cell_type": "markdown",
   "metadata": {},
   "source": [
    "## Higher level types: Tuple? List? Dictionary?"
   ]
  },
  {
   "cell_type": "code",
   "execution_count": 7,
   "metadata": {
    "collapsed": true
   },
   "outputs": [],
   "source": [
    "atup = (1, 2)\n",
    "alist = [5, 5, 6, 7]\n",
    "adict = {'key1': [6, 3], 'key2': [5, 4]}"
   ]
  },
  {
   "cell_type": "code",
   "execution_count": 8,
   "metadata": {},
   "outputs": [
    {
     "name": "stdout",
     "output_type": "stream",
     "text": [
      "<class 'tuple'>\n",
      "<class 'int'>\n",
      "<class 'tuple'>\n"
     ]
    }
   ],
   "source": [
    "atup_of_lists = ()\n",
    "atup_of_lists2 = (4)\n",
    "atup_of_lists3 = (4,)\n",
    "alist_of_tups = []\n",
    "adict_of_lists_and_tups = {}\n",
    "print(type(atup_of_lists))\n",
    "print(type(atup_of_lists2))\n",
    "print(type(atup_of_lists3))"
   ]
  },
  {
   "cell_type": "raw",
   "metadata": {
    "raw_mimetype": "text/x-python"
   },
   "source": [
    "in pandas, () will give you a series and dot values gives you nd.ararys"
   ]
  },
  {
   "cell_type": "markdown",
   "metadata": {},
   "source": [
    "## How to check the type?"
   ]
  },
  {
   "cell_type": "code",
   "execution_count": 9,
   "metadata": {},
   "outputs": [
    {
     "data": {
      "text/plain": [
       "tuple"
      ]
     },
     "execution_count": 9,
     "metadata": {},
     "output_type": "execute_result"
    }
   ],
   "source": [
    "type(atup)"
   ]
  },
  {
   "cell_type": "markdown",
   "metadata": {},
   "source": [
    "## Subscript/slice/subselect/reverse"
   ]
  },
  {
   "cell_type": "code",
   "execution_count": 10,
   "metadata": {
    "collapsed": true
   },
   "outputs": [],
   "source": [
    "atup_sub = atup[0]\n",
    "alist_sub = alist[2:3]\n",
    "adict_sub = adict['key1']"
   ]
  },
  {
   "cell_type": "markdown",
   "metadata": {},
   "source": [
    "## Other types: np.array?, pd.DataFrame?"
   ]
  },
  {
   "cell_type": "code",
   "execution_count": 11,
   "metadata": {
    "collapsed": true
   },
   "outputs": [],
   "source": [
    "nparr = np.array(alist)\n",
    "pddf = pd.DataFrame(adict)"
   ]
  },
  {
   "cell_type": "markdown",
   "metadata": {},
   "source": [
    "## One big difference between np.array and lists"
   ]
  },
  {
   "cell_type": "code",
   "execution_count": 12,
   "metadata": {
    "collapsed": true
   },
   "outputs": [],
   "source": [
    "alist_aint = alist * aint\n",
    "nparr_aint = nparr * aint"
   ]
  },
  {
   "cell_type": "code",
   "execution_count": 13,
   "metadata": {},
   "outputs": [
    {
     "name": "stdout",
     "output_type": "stream",
     "text": [
      "[5, 5, 6, 7, 5, 5, 6, 7, 5, 5, 6, 7, 5, 5, 6, 7]\n",
      "[20 20 24 28]\n"
     ]
    }
   ],
   "source": [
    "print(alist_aint)\n",
    "print(nparr_aint)"
   ]
  },
  {
   "cell_type": "markdown",
   "metadata": {
    "collapsed": true
   },
   "source": [
    "## Format a string!"
   ]
  },
  {
   "cell_type": "code",
   "execution_count": 14,
   "metadata": {},
   "outputs": [
    {
     "name": "stdout",
     "output_type": "stream",
     "text": [
      "0.00 0.00 0.00 0.00 0.00\n",
      "    4\n",
      "yellow\n"
     ]
    }
   ],
   "source": [
    "floatlist = [0.,6.,7.,4.,6.]\n",
    "afloat_fmt = '{0:0.2f} {0:0.2f} {0:0.2f} {0:0.2f} {0:0.2f}'.format(*floatlist)\n",
    "aint_fmt = '{0:5d}'.format(aint)\n",
    "astr_fmt = '{0}'.format(astr)\n",
    "print(afloat_fmt)\n",
    "print(aint_fmt)\n",
    "print(astr_fmt)\n",
    "#For more visit https://docs.python.org/3/library/string.html#string-formatting "
   ]
  },
  {
   "cell_type": "code",
   "execution_count": 15,
   "metadata": {},
   "outputs": [
    {
     "name": "stdout",
     "output_type": "stream",
     "text": [
      "    5     5     5   101 \n",
      "    6     6     6   110 \n",
      "    7     7     7   111 \n",
      "    8     8    10  1000 \n",
      "    9     9    11  1001 \n",
      "   10     A    12  1010 \n",
      "   11     B    13  1011 \n"
     ]
    }
   ],
   "source": [
    "#https://docs.python.org/3/library/string.html#string-formatting\n",
    "width = 5\n",
    "for num in range(5,12): \n",
    "    for base in 'dXob':\n",
    "        print('{0:{width}{base}}'.format(num, base=base, width=width), end=' ')\n",
    "    print()\n"
   ]
  },
  {
   "cell_type": "markdown",
   "metadata": {},
   "source": [
    "\n",
    "### 1. Sorting a dictionary, printing formatted values.\n",
    "\n",
    "Write a python script to sort the annual-average global temperature anomaly values (contained in `aravg.ann.land_ocean.90S.90N.v4.0.1.201612.asc.txt` in into a new dictionary in descending order.\n",
    "\n",
    "The script should print the top 10 warmest years to a file called 'top10warmest.txt', including all of the following information:\n",
    "\n",
    "The output should look like this:\n",
    "```\n",
    "Ranking      Year     Temperature Anomaly (degrees C)      Temperature Anomaly (degrees F)\n",
    "1.           1745     10.0                                 28.0\n",
    "2. (etc.)\n",
    "```\n"
   ]
  },
  {
   "cell_type": "code",
   "execution_count": 16,
   "metadata": {
    "scrolled": true
   },
   "outputs": [
    {
     "name": "stdout",
     "output_type": "stream",
     "text": [
      "1880.            1     14.74                                 88.6\n",
      "1881.            2     14.79                                 88.6\n",
      "1882.            3     14.79                                 88.6\n",
      "1883.            4     14.71                                 88.5\n",
      "1884.            5     14.65                                 88.4\n",
      "1885.            6     14.64                                 88.4\n",
      "1886.            7     14.65                                 88.4\n",
      "1887.            8     14.61                                 88.3\n",
      "1888.            9     14.71                                 88.5\n",
      "1889.           10     14.76                                 88.6\n"
     ]
    },
    {
     "name": "stderr",
     "output_type": "stream",
     "text": [
      "/home/nbuser/anaconda3_410/lib/python3.5/site-packages/ipykernel/__main__.py:1: ParserWarning: Falling back to the 'python' engine because the 'c' engine does not support regex separators (separators > 1 char and different from '\\s+' are interpreted as regex); you can avoid this warning by specifying engine='python'.\n",
      "  if __name__ == '__main__':\n"
     ]
    }
   ],
   "source": [
    "df = pd.read_csv('aravg.ann.land_ocean.90S.90N.v4.0.1.201612.asc.txt', header = None, sep='   ')\n",
    "lines = df.sort_values([1,0], ascending = False)\n",
    "\n",
    "tempc = lines[1] + 15.1 \n",
    "tempf = lines[1]*1.8 + 32.0 + 57.2\n",
    "\n",
    "for i in range(10):\n",
    "    tempstr = '{1:>2d}.           {0:2d}     {2:1.2f}                                 {3:4.1f}'\n",
    "    \n",
    "    floatlist = [i+1, lines[0][i], tempc[i], tempf[i]]\n",
    "    print(tempstr.format(*floatlist))"
   ]
  },
  {
   "cell_type": "code",
   "execution_count": 17,
   "metadata": {
    "collapsed": true
   },
   "outputs": [],
   "source": []
  },
  {
   "cell_type": "code",
   "execution_count": null,
   "metadata": {
    "collapsed": true
   },
   "outputs": [],
   "source": []
  }
 ],
 "metadata": {
  "anaconda-cloud": {},
  "celltoolbar": "Raw Cell Format",
  "kernelspec": {
   "display_name": "Python 3",
   "language": "python",
   "name": "python3"
  },
  "language_info": {
   "codemirror_mode": {
    "name": "ipython",
    "version": 3
   },
   "file_extension": ".py",
   "mimetype": "text/x-python",
   "name": "python",
   "nbconvert_exporter": "python",
   "pygments_lexer": "ipython3",
   "version": "3.5.1"
  }
 },
 "nbformat": 4,
 "nbformat_minor": 1
}
