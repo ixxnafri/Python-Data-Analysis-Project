{
 "cells": [
  {
   "cell_type": "markdown",
   "metadata": {
    "collapsed": false
   },
   "source": [
    "<h3>1. Directory Navigation</h3>\n",
    "<p>For each of the following directives, make note of the terminal response or output. You will hand in\n",
    "your notes as the first assignment. [20 pts]</p>"
   ]
  },
  {
   "cell_type": "markdown",
   "metadata": {
    "collapsed": false
   },
   "source": [
    "<p>(a) Determine your current working directory. What is it?</p>"
   ]
  },
  {
   "cell_type": "code",
   "execution_count": 3,
   "metadata": {
    "collapsed": false
   },
   "outputs": [
    {
     "name": "stdout",
     "output_type": "stream",
     "text": [
      "\n",
      "Automagic is ON, % prefix IS NOT needed for line magics.\n"
     ]
    }
   ],
   "source": [
    "%automagic 0 #set automagic to 1 to turn terminal on without %"
   ]
  },
  {
   "cell_type": "code",
   "execution_count": 4,
   "metadata": {
    "collapsed": false
   },
   "outputs": [
    {
     "data": {
      "text/plain": [
       "u'/home/user/Module 01'"
      ]
     },
     "execution_count": 4,
     "metadata": {
     },
     "output_type": "execute_result"
    }
   ],
   "source": [
    "pwd"
   ]
  },
  {
   "cell_type": "markdown",
   "metadata": {
    "collapsed": false
   },
   "source": [
    "<p>     pwd shows the current working directory as /home/user/Module 01</p>"
   ]
  },
  {
   "cell_type": "markdown",
   "metadata": {
    "collapsed": false
   },
   "source": [
    "<p>(b) List the contents of the current directory in long format. What additional information is provided\n",
    "when using the option -l? </p>"
   ]
  },
  {
   "cell_type": "code",
   "execution_count": 0,
   "metadata": {
    "collapsed": false
   },
   "outputs": [
   ],
   "source": [
    "ls -l"
   ]
  },
  {
   "cell_type": "markdown",
   "metadata": {
    "collapsed": false
   },
   "source": [
    "<p>ls is a linux shell command that list directory contents of files and directories and an addition of -l will give you a list with long format and show permissions of the files. </p>"
   ]
  },
  {
   "cell_type": "markdown",
   "metadata": {
    "collapsed": false
   },
   "source": [
    "<p>(c) List the contents of the current directory in long format with hidden files revealed. What\n",
    "additional files/directories are present in your home directory?</p>"
   ]
  },
  {
   "cell_type": "markdown",
   "metadata": {
    "collapsed": false
   },
   "source": [
    "<p>(d) Create a directory called test. What are the permissions of your new directory? Remember that\n",
    "permissions are listed as a string of 10 characters beginning with a d for directory or a - for\n",
    "other file types. This first character is followed by 9 characters arranged in groups of three for\n",
    "user/group/other. The three possible characters are rwx, which stand for readable, writeable\n",
    "and executable when present. If no permission is granted, the triplet will appear as ---.</p>"
   ]
  },
  {
   "cell_type": "markdown",
   "metadata": {
    "collapsed": false
   },
   "source": [
    "<p>(e) Change the current working directory to the new test directory.</p>\n",
    "<p>~$ cd test && ls -l </p>\n",
    "<p>What does the symbol && do? </p>"
   ]
  },
  {
   "cell_type": "markdown",
   "metadata": {
    "collapsed": false
   },
   "source": [
    "<p>(f) Change the working directory back to your home directory. </p>\n",
    "<p>~$ cd .. </p>\n",
    "<p>What do the two periods accomplish? To discover for yourself, you may wish to create a\n",
    "directory beneath test and move to this new directory. Use cd with the periods, and use cd\n",
    "alone. What is the difference?</p>"
   ]
  },
  {
   "cell_type": "markdown",
   "metadata": {
    "collapsed": false
   },
   "source": [
    "<p>(g) Write a new function called cd to combine the operations cd and ls as follows. Be careful with\n",
    "your syntax.</p>\n",
    "\n",
    "<p>Describe what happens each time the builtin command cd is used? If you are annoyed by this\n",
    "feature, you may enter the function again as it appears above but omitting the && ls portion\n",
    "of the final line.</p>"
   ]
  },
  {
   "cell_type": "code",
   "execution_count": 6,
   "metadata": {
    "collapsed": false
   },
   "outputs": [
    {
     "ename": "SyntaxError",
     "evalue": "invalid syntax (<ipython-input-6-69c6dfd8f7a2>, line 1)",
     "output_type": "error",
     "traceback": [
      "\u001b[0;36m  File \u001b[0;32m\"<ipython-input-6-69c6dfd8f7a2>\"\u001b[0;36m, line \u001b[0;32m1\u001b[0m\n\u001b[0;31m    function cd() {\u001b[0m\n\u001b[0m              ^\u001b[0m\n\u001b[0;31mSyntaxError\u001b[0m\u001b[0;31m:\u001b[0m invalid syntax\n"
     ]
    }
   ],
   "source": [
    "function cd() {  \n",
    "new_directory=\"$*\";\n",
    "if [ $# -eq 0 ]; then\n",
    "new_directory=${HOME}; \n",
    "fi; <br>\n",
    "builtin cd \"${new_directory}\" && ls\n",
    "}"
   ]
  },
  {
   "cell_type": "markdown",
   "metadata": {
    "collapsed": false
   },
   "source": [
    "<p>(h) Within the directory test, make a new file with the command:  </br>\n",
    "~$ echo this\\ is\\ my\\ first\\ file > test.txt</br>\n",
    "Why do we use the backslash (also called an escape)? How can you verify your file has been</br>\n",
    "created? </p>"
   ]
  },
  {
   "cell_type": "markdown",
   "metadata": {
    "collapsed": false
   },
   "source": [
    "<p>(i) Read your file with the following command. </br>\n",
    "~$ more test.txt </br>\n",
    "What happens?</p>"
   ]
  },
  {
   "cell_type": "markdown",
   "metadata": {
    "collapsed": false
   },
   "source": [
    "<p>(j) We can add a second line as follows: </br>\n",
    "<blockquote>\n",
    "~$ echo this\\ is\\ the\\ second\\ line >> test.txt </br>\n",
    "</blockquote>\n",
    "How does this command differ from your previous version? </br>\n",
    "</p>"
   ]
  },
  {
   "cell_type": "markdown",
   "metadata": {
    "collapsed": false
   },
   "source": [
    "<html>\n",
    "<body>\n",
    "<p>(k) When using more filename, you can search for a particular string by selecting the forward </br>\n",
    "slash key, typing the string, and pressing enter. However, if you want to look for a string in </br>\n",
    "</body>\n",
    "\n",
    "<body>\n",
    "multiple files, then the command grep is a better option. </br>\n",
    "Type the following: </br>\n",
    "<blockquote>\n",
    "       ~$ grep second test.txt \n",
    "          </blockquote>\n",
    "\n",
    "Notice the syntax: $ grep string filename. What is the output? </br>\n",
    "</p>\n",
    "</body>"
   ]
  },
  {
   "cell_type": "code",
   "execution_count": 0,
   "metadata": {
    "collapsed": false
   },
   "outputs": [
   ],
   "source": [
   ]
  }
 ],
 "metadata": {
  "kernelspec": {
   "display_name": "Python 2 (SageMath)",
   "language": "python",
   "name": "python2"
  },
  "language_info": {
   "codemirror_mode": {
    "name": "ipython",
    "version": 2
   },
   "file_extension": ".py",
   "mimetype": "text/x-python",
   "name": "python",
   "nbconvert_exporter": "python",
   "pygments_lexer": "ipython2",
   "version": "2.7.13"
  }
 },
 "nbformat": 4,
 "nbformat_minor": 0
}