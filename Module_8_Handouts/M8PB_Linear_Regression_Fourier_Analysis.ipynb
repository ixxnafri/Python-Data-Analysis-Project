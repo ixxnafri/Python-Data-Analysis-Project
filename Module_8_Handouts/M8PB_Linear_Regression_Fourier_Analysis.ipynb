{
 "cells": [
  {
   "cell_type": "markdown",
   "metadata": {},
   "source": [
    "<h1>Module 8: Nonlinear Regression and Fourier Analysis</h1>\n",
    "\n",
    "<p>Data available at\n",
    "http://scrippsco2.ucsd.edu/data/atmospheric_co2/sampling_stations</p>"
   ]
  },
  {
   "cell_type": "markdown",
   "metadata": {},
   "source": [
    "<h2>#1 Linear Regression Analysis</h2>"
   ]
  },
  {
   "cell_type": "markdown",
   "metadata": {},
   "source": [
    "<strong>Regression Analysis of the Keeling Curve</strong>\n",
    "<br/>In this exercise, we will be using a linear regression to fit our data with our simple parabolic model. The data of column one represents time measurements, while column two is for $CO_2$ measurements in ppm. \n"
   ]
  },
  {
   "cell_type": "markdown",
   "metadata": {},
   "source": [
    "<strong>Part 1.</strong> Load the data as a pandas array. In the next cell we are using pandas to load a data file called mlo_station_data_set/monthly_in_situ_co2_mlo.csv. Be sure to check your datafile by opening it, and then after reading it in pandas. "
   ]
  },
  {
   "cell_type": "code",
   "execution_count": 2,
   "metadata": {
    "collapsed": true
   },
   "outputs": [],
   "source": [
    "import numpy as np\n",
    "import pylab as pl\n",
    "from numpy import fft\n",
    "import datetime as dt\n",
    "\n",
    "import pandas as pd\n",
    "data = pd.read_csv('weekly_in_situ_co2_mlo.csv', sep=\",\",comment='\"',)\n",
    "data.columns = ['dates', 'co2_ppm']\n",
    "data.index = data['dates'] \n",
    "# We need to convert our dates to seconds\n",
    "data['dates'] = (pd.to_datetime(data['dates']) - dt.datetime(1951,1,1)).dt.total_seconds() \n",
    "\n"
   ]
  },
  {
   "cell_type": "markdown",
   "metadata": {},
   "source": [
    "<p><strong>Part 2.</strong> Write a python function called parabola for the expression: $X(t) = (m*t + b)^2 + X_{min}$ Your function should include a four arguments, one for an array of times and three for the parameters m (slope), b (intercept) and x_min (the minimum value of your dataset). </p>\n",
    "<p>Be sure to save your function in a file that will be imported in your final plotting script.</p>"
   ]
  },
  {
   "cell_type": "code",
   "execution_count": null,
   "metadata": {
    "collapsed": true
   },
   "outputs": [],
   "source": []
  },
  {
   "cell_type": "markdown",
   "metadata": {},
   "source": [
    "<p><strong>Part 3.</strong> Our next step is to create a linear regression in python. The procedure is relatively simple, once your data has been loaded. The first step is to linearize your data. Think about how you would perform this step mathematically.  Hint: set $m*x + b$ equal to your $y^2$, or data squared. <a href=\"http://docs.scipy.org/doc/scipy-0.14.0/reference/generated/scipy.stats.linregress.html\"> You can read the SciPy documentation for stats.linregress here.</a></p>\n",
    "<p>Once you have the slope and intercept for your linear fit, you will have to perform the inverse mathematical operation to convert your data back into an parabolic function. Plot this \"quadratic model\" found by linear regression against your data. The model should appear as a solid red line, and the data as black points. <a href=\"http://matplotlib.org/users/screenshots.html\">Documentation may be found here.</a></p>"
   ]
  },
  {
   "cell_type": "code",
   "execution_count": 3,
   "metadata": {},
   "outputs": [
    {
     "name": "stderr",
     "output_type": "stream",
     "text": [
      "ERROR:root:File `'parabola.py'` not found.\n"
     ]
    },
    {
     "name": "stdout",
     "output_type": "stream",
     "text": [
      "4.25484422877e-09 0.889172211429 0.991882952701 0.0 9.92053539589e-12\n"
     ]
    },
    {
     "ename": "NameError",
     "evalue": "name 'parabola' is not defined",
     "output_type": "error",
     "traceback": [
      "\u001b[0;31m---------------------------------------------------------------------------\u001b[0m",
      "\u001b[0;31mNameError\u001b[0m                                 Traceback (most recent call last)",
      "\u001b[0;32m<ipython-input-3-29f79fb3ac76>\u001b[0m in \u001b[0;36m<module>\u001b[0;34m()\u001b[0m\n\u001b[1;32m      8\u001b[0m \u001b[0;34m\u001b[0m\u001b[0m\n\u001b[1;32m      9\u001b[0m \u001b[0;34m\u001b[0m\u001b[0m\n\u001b[0;32m---> 10\u001b[0;31m \u001b[0my\u001b[0m \u001b[0;34m=\u001b[0m \u001b[0mparabola\u001b[0m\u001b[0;34m(\u001b[0m\u001b[0mdata\u001b[0m\u001b[0;34m[\u001b[0m\u001b[0;34m'dates'\u001b[0m\u001b[0;34m]\u001b[0m\u001b[0;34m,\u001b[0m\u001b[0mm\u001b[0m\u001b[0;34m,\u001b[0m\u001b[0mb\u001b[0m\u001b[0;34m,\u001b[0m\u001b[0mdata\u001b[0m\u001b[0;34m[\u001b[0m\u001b[0;34m'co2_ppm'\u001b[0m\u001b[0;34m]\u001b[0m\u001b[0;34m.\u001b[0m\u001b[0mmin\u001b[0m\u001b[0;34m(\u001b[0m\u001b[0;34m)\u001b[0m\u001b[0;34m)\u001b[0m\u001b[0;34m\u001b[0m\u001b[0m\n\u001b[0m\u001b[1;32m     11\u001b[0m \u001b[0mpl\u001b[0m\u001b[0;34m.\u001b[0m\u001b[0mplot\u001b[0m\u001b[0;34m(\u001b[0m\u001b[0mdata\u001b[0m\u001b[0;34m[\u001b[0m\u001b[0;34m'dates'\u001b[0m\u001b[0;34m]\u001b[0m\u001b[0;34m,\u001b[0m\u001b[0mdata\u001b[0m\u001b[0;34m[\u001b[0m\u001b[0;34m'co2_ppm'\u001b[0m\u001b[0;34m]\u001b[0m\u001b[0;34m,\u001b[0m\u001b[0;34m'k-'\u001b[0m\u001b[0;34m,\u001b[0m \u001b[0mdata\u001b[0m\u001b[0;34m[\u001b[0m\u001b[0;34m'dates'\u001b[0m\u001b[0;34m]\u001b[0m\u001b[0;34m,\u001b[0m\u001b[0my\u001b[0m\u001b[0;34m,\u001b[0m\u001b[0;34m'r-'\u001b[0m\u001b[0;34m)\u001b[0m\u001b[0;34m\u001b[0m\u001b[0m\n",
      "\u001b[0;31mNameError\u001b[0m: name 'parabola' is not defined"
     ]
    }
   ],
   "source": [
    "%matplotlib inline\n",
    "%run 'parabola.py'\n",
    "from scipy import stats\n",
    "xdata = data['dates']# This is the independent variable and can be used without transformation\n",
    "ydata = np.sqrt(data['co2_ppm'] - data['co2_ppm'].min()) # You'll need to transform this data to a linear trend. \n",
    "[m,b,r,p,sterr] = stats.linregress(xdata, ydata) # What do m, b, r, p and sterr mean?\n",
    "print(m,b,r,p,sterr) \n",
    "\n",
    "\n",
    "y = parabola(data['dates'],m,b,data['co2_ppm'].min())\n",
    "pl.plot(data['dates'],data['co2_ppm'],'k-', data['dates'],y,'r-')\n"
   ]
  },
  {
   "cell_type": "code",
   "execution_count": 4,
   "metadata": {},
   "outputs": [
    {
     "name": "stdout",
     "output_type": "stream",
     "text": [
      "1.37849881375e-10 5.70166411729 0.991958116861 0.0 3.19899062924e-13\n",
      "[  1.27994321e-17   1.88466072e-08   3.09504104e+02]\n"
     ]
    },
    {
     "data": {
      "image/png": "[encoded data removed]",
      "text/plain": [
       "<matplotlib.figure.Figure at 0x107da4ba8>"
      ]
     },
     "metadata": {},
     "output_type": "display_data"
    }
   ],
   "source": [
    "%matplotlib inline\n",
    "\n",
    "def exponential(t,m,b):\n",
    "    return np.exp(m*t+b)\n",
    "\n",
    "from scipy import stats\n",
    "xdata = data['dates']# This is the independent variable and can be used without transformation\n",
    "ydata = np.log(data['co2_ppm']) # You'll need to transform this data to a linear trend. \n",
    "[m,b,r,p,sterr] = stats.linregress(xdata, ydata) # What do m, b, r, p and sterr mean?\n",
    "[m2,b2,r2,p2,sterr2] = stats.linregress(xdata, data['co2_ppm'])\n",
    "print(m,b,r,p,sterr) \n",
    "p = np.polyfit(data['dates'], data['co2_ppm'], 2)\n",
    "print(p)\n",
    "\n",
    "y = exponential(data['dates'],m,b)\n",
    "pl.plot(data['dates'],data['co2_ppm'],'k-', data['dates'],y,'r-', data['dates'],m2*xdata+b2,'c-')\n",
    "pl.savefig('fits.png',dpi=1000)\n",
    "\n"
   ]
  },
  {
   "cell_type": "markdown",
   "metadata": {},
   "source": [
    "<p><strong>Part 4.</strong> Use your model to predict future values of $CO_2$ concentrations in 1, 10 and 100 years.  Are these values reasonable in your opinion?"
   ]
  },
  {
   "cell_type": "markdown",
   "metadata": {},
   "source": [
    "<h2>#2 Nonlinear Regression</h2>\n",
    "<p><strong>Part 1.</strong> Write an <em>external</em> python function with filename exponential.py for the expression: $X(t) = X(t_0)e^{at}$ Your function should include a three arguments, one for an array of times and two for the parameters a, rate constant, and x_0, your initial condition. Hint, <a href=\"http://docs.scipy.org/doc/numpy/reference/generated/numpy.array.html\">See the documentation of numpy arrays here.</a> </p>\n"
   ]
  },
  {
   "cell_type": "code",
   "execution_count": null,
   "metadata": {
    "collapsed": true
   },
   "outputs": [],
   "source": []
  },
  {
   "cell_type": "markdown",
   "metadata": {},
   "source": [
    "<p><strong>Part 2.</strong> Since we have a good idea our data, exponential.txt, follows an exponential relationship, we can use a nonlinear fit. <a href=\"http://docs.scipy.org/doc/scipy/reference/generated/scipy.optimize.curve_fit.html\" >In SciPy the optimize module has a curve fit function</a>. The advantage of a non-linear fit is that our data does not need to be linearized in advance.</p> \n",
    "<p>Once you have the estimated parameters for you nonlinear fit, plot this \"exponential model\" against your data. The model should appear as a solid line, and the data as points.</p>\n",
    "<p>Repeat this procedure with the Keeling Curve.</p>"
   ]
  },
  {
   "cell_type": "code",
   "execution_count": null,
   "metadata": {
    "collapsed": true
   },
   "outputs": [],
   "source": []
  },
  {
   "cell_type": "markdown",
   "metadata": {},
   "source": [
    "<h2>#3 Fourier Analysis</h2>"
   ]
  },
  {
   "cell_type": "markdown",
   "metadata": {},
   "source": [
    "<strong>Fourier Analysis of the Keeling Curve</strong>\n",
    "<br/>In this exercise, we will be using a fast fourier transform (fft) to fit our data with our more complex harmonic model. Documentation on the fft can be found here: https://docs.scipy.org/doc/numpy/reference/generated/numpy.fft.fft.html "
   ]
  },
  {
   "cell_type": "markdown",
   "metadata": {},
   "source": [
    "<p><strong>Part 1.</strong> The following code is provided for your analysis. Try to determine what is going on in the code. To do this, you'll want to change the number of harmonics from 40 to some greater number. What happens? If you make zero predictions (currently set at 740) when calling the function, it will print out the residual between your data and the model. As the residual decreases, your model fits the data better. Are there any noteable trends in your fit?</p>"
   ]
  },
  {
   "cell_type": "code",
   "execution_count": 7,
   "metadata": {},
   "outputs": [
    {
     "data": {
      "image/png": "[encoded data removed]",
      "text/plain": [
       "<matplotlib.figure.Figure at 0x10827ef60>"
      ]
     },
     "metadata": {},
     "output_type": "display_data"
    }
   ],
   "source": [
    "import numpy as np\n",
    "import pylab as pl\n",
    "from numpy import fft\n",
    "from matplotlib.ticker import Formatter\n",
    "\n",
    "import pandas as pd\n",
    "data = pd.read_csv('weekly_in_situ_co2_mlo.csv', sep=\",\",comment='\"',)\n",
    "data.columns = ['dates', 'co2_ppm']\n",
    "data['dates'] = pd.to_datetime(data['dates'])\n",
    "data.index = data['dates'] \n",
    "\n",
    "\n",
    "class MyFormatter(Formatter):\n",
    "    def __init__(self, dates, fmt='%Y-%m-%d'):\n",
    "        self.dates = dates\n",
    "        self.fmt = fmt\n",
    "\n",
    "    def __call__(self, x, pos=0):\n",
    "        'Return the label for time x at position pos'\n",
    "        ind = int(np.round(x))\n",
    "        if ind >= len(self.dates) or ind < 0:\n",
    "            return ''\n",
    "\n",
    "        return self.dates[ind].strftime(self.fmt)\n",
    "    \n",
    "formatter = MyFormatter(data['dates'])\n",
    "\n",
    "def fourierExtrapolation(x, n_predict, n_harm):\n",
    "    n = x.size\n",
    "    t = np.arange(0, n)\n",
    "    p = np.polyfit(t, x, 2)         # find linear trend in x\n",
    "    x_notrend = x - p[0] * t**2 - p[1]*t        # detrended x\n",
    "    x_freqdom = fft.fft(x_notrend)  # detrended x in frequency domain\n",
    "    f = fft.fftfreq(n)              # frequencies\n",
    "    indexes = list(range(n))\n",
    "    # sort indexes by frequency, lower -> higher\n",
    "    indexes.sort(key = lambda i: np.absolute(f[i]))\n",
    " \n",
    "    t = np.arange(0, n + n_predict)\n",
    "    restored_sig = np.zeros(t.size)\n",
    "    for i in indexes[:1 + n_harm * 2]:\n",
    "        ampli = np.absolute(x_freqdom[i]) / n   # amplitude\n",
    "        phase = np.angle(x_freqdom[i])          # phase\n",
    "        restored_sig += ampli * np.cos(2 * np.pi * f[i] * t + phase)\n",
    "    return restored_sig + p[0] * t**2 + p[1]*t\n",
    "    \n",
    "    \n",
    "def main(x, dates, n_predict, n_harm):\n",
    "    extrapolation = fourierExtrapolation(x, n_predict, n_harm)\n",
    "\n",
    "    datesize = np.shape(dates)\n",
    "    newdates = pd.PeriodIndex(freq='m', start=dates.min(), periods=n_predict+datesize[0])\n",
    "    formatter = MyFormatter(newdates)\n",
    "    \n",
    "    fig, ax = pl.subplots()\n",
    "    ax.xaxis.set_major_formatter(formatter)\n",
    "    fig.autofmt_xdate()\n",
    "\n",
    "    pl.plot(np.arange(0, extrapolation.size), extrapolation, 'r', label = 'extrapolation', linewidth='1')\n",
    "    pl.plot(np.arange(0, x.size), x, 'k', marker='.', markersize='0.01')\n",
    "    if n_predict == 0:\n",
    "        residual = np.sqrt(sum((extrapolation - x)**2))\n",
    "        print(residual)\n",
    "    pl.legend()\n",
    "    pl.show()\n",
    "    \n",
    "# This is where we call our function... The inputs are to be decided by you.    \n",
    "if __name__ == \"__main__\":\n",
    "    main(data['co2_ppm'][0:],data['dates'][0:], 740, 40)"
   ]
  },
  {
   "cell_type": "markdown",
   "metadata": {},
   "source": [
    "<h2>Exercises</h2>\n",
    "\n",
    "<p>Go to the NOAA El Niño Southern Oscillation page and download the data for the Southern Oscillation Index (SOI) in either JSON or csv format. https://www.ncdc.noaa.gov/teleconnections/enso/indicators/soi/. Conduct the fourier analysis above on this data. Note, you'll need to work with the data a bit, which means you should take a look at it and possibly erase lines or titles that prevent it from being read by pandas. You'll also want to strip out the date formatting code unless you change the dates to include the first day of the month for each data point. Once you have a successful fit, use your model to predict the date range for the next El Niño and La Niña events, how strong does your model predicted them to be?</p>\n"
   ]
  },
  {
   "cell_type": "code",
   "execution_count": null,
   "metadata": {
    "collapsed": true
   },
   "outputs": [],
   "source": []
  },
  {
   "cell_type": "code",
   "execution_count": null,
   "metadata": {
    "collapsed": true
   },
   "outputs": [],
   "source": []
  }
 ],
 "metadata": {
  "kernelspec": {
   "display_name": "Python 3",
   "language": "python",
   "name": "python3"
  },
  "language_info": {
   "codemirror_mode": {
    "name": "ipython",
    "version": 3
   },
   "file_extension": ".py",
   "mimetype": "text/x-python",
   "name": "python",
   "nbconvert_exporter": "python",
   "pygments_lexer": "ipython3",
   "version": "3.5.2"
  }
 },
 "nbformat": 4,
 "nbformat_minor": 2
}
