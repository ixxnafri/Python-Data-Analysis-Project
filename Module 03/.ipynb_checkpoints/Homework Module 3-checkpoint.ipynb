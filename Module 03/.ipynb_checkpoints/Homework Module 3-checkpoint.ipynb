{
 "cells": [
  {
   "cell_type": "markdown",
   "metadata": {},
   "source": [
    "<h3>Exercise</h3>\n",
    "1. Read in the daily in situ CO2 data with pandas and average over months to compare with the monthly value dataset. Compute and plot the residuals. "
   ]
  },
  {
   "cell_type": "code",
   "execution_count": 1,
   "metadata": {
    "collapsed": true
   },
   "outputs": [],
   "source": [
    "import pandas as pd\n",
    "import numpy as np\n",
    "\n",
    "d_data = pd.read_csv('mlo_station_data_set/daily_in_situ_co2_mlo.csv', sep=\",\",comment='%',header=None, na_values=['    NaN'])\n",
    "d_data.columns = ['years', 'months','days','CO2','NB','scale']\n",
    "d_data['dates'] = pd.to_datetime({'year':d_data['years'],'month':d_data['months'],'day':d_data['days']})\n",
    "d_data.index = d_data['dates'] # A critical step for using resampling\n",
    "del d_data['years']\n",
    "del d_data['months']\n",
    "del d_data['days']\n",
    "del d_data['NB']\n",
    "del d_data['scale']\n",
    "df1 = d_data.resample('M').mean()"
   ]
  },
  {
   "cell_type": "code",
   "execution_count": null,
   "metadata": {},
   "outputs": [],
   "source": [
    "m_data = pd.read_csv('mlo_station_data_set/monthly_in_situ_co2_mlo.csv', sep=\",\",comment='\"', skiprows=3,na_values=[-99.99])\n",
    "days = np.ones([720])\n",
    "m_data.drop(m_data.index[[0]], inplace=True)\n",
    "m_data.columns = ['years', 'months','date','decimal date','CO2_1','CO2_2','CO2_3','CO2_4','CO2_5','CO2_6']\n",
    "m_data.index = pd.to_datetime({'year': m_data['years'], 'month': m_data['months'], 'day':days}) + pd.offsets.MonthEnd(0)\n",
    "for x in range(578,720):\n",
    "    m_data.drop(m_data.index[[578]], inplace=True)\n",
    "\n",
    "m_data['CO2_3'] = pd.to_numeric(m_data['CO2_3'], errors='coerce')\n",
    "m_data[m_data['CO2_3'] == -99.99] = np.nan\n",
    "\n",
    "del m_data['years']\n",
    "del m_data['months']\n",
    "del m_data['date']\n",
    "del m_data['decimal date']\n",
    "del m_data['CO2_1']\n",
    "del m_data['CO2_2']\n",
    "del m_data['CO2_4']\n",
    "del m_data['CO2_5']\n",
    "del m_data['CO2_6']\n",
    "df2 = m_data"
   ]
  },
  {
   "cell_type": "code",
   "execution_count": null,
   "metadata": {},
   "outputs": [
    {
     "data": {
      "text/plain": [
       "<matplotlib.legend.Legend at 0x7fdd111cc9e8>"
      ]
     },
     "execution_count": 3,
     "metadata": {},
     "output_type": "execute_result"
    },
    {
     "data": {
      "image/png": "[encoded data removed]",
      "text/plain": [
       "<matplotlib.figure.Figure at 0x7fdcfadcf0f0>"
      ]
     },
     "metadata": {},
     "output_type": "display_data"
    }
   ],
   "source": [
    "import matplotlib.pyplot as plt\n",
    "%matplotlib inline\n",
    "df3 = pd.concat([df1, df2.set_index(df1.index[:len(df2)])], axis=1)\n",
    "df3.columns = ['Daily_CO2','Monthly_CO2']\n",
    "df1.plot()\n",
    "df2.plot()\n",
    "plt.figure(figsize=(40,30)); df3.plot(); plt.legend(loc='best')"
   ]
  },
  {
   "cell_type": "markdown",
   "metadata": {},
   "source": [
    " <p2>2. Compute an annual average based on the daily in situ CO2 values and write out a\n",
    "csv file.</p2>\n"
   ]
  },
  {
   "cell_type": "code",
   "execution_count": null,
   "metadata": {},
   "outputs": [],
   "source": [
    "from datetime import datetime\n",
    "import pandas as pd\n",
    "import numpy as np\n",
    "\n",
    "d_data = pd.read_csv('mlo_station_data_set/daily_in_situ_co2_mlo.csv', sep=\",\",comment='%',header=None, na_values=['    NaN'])\n",
    "d_data.columns = ['years', 'months','days','CO2','NB','scale']\n",
    "d_data['dates'] = pd.to_datetime({'year':d_data['years'],'month':d_data['months'],'day':d_data['days']})\n",
    "d_data.index = d_data['dates'] # A critical step for using resampling\n",
    "del d_data['years']\n",
    "del d_data['months']\n",
    "del d_data['days']\n",
    "del d_data['NB']\n",
    "del d_data['scale']\n",
    "df4 = d_data.resample('A').mean()\n",
    "df4.to_csv('out.csv', na_rep = 'NaN')"
   ]
  },
  {
   "cell_type": "markdown",
   "metadata": {},
   "source": [
    "<p>3. Load in the file called geneds json.txt with the pd.read json( ) function. Print\n",
    "the file to figure out the number of columns and column names. \n",
    "Which GenEdcourse at the University of Illinois has the greatest average GPA? <br> (Hint: Use the\n",
    "sort values( ) function, or data.loc[data[’avg gpa’].idxmax( )] ) in the cell below demonstrates how you can calculate a mean for an entire table of\n",
    "data for a nontrivial case.\n"
   ]
  },
  {
   "cell_type": "code",
   "execution_count": null,
   "metadata": {},
   "outputs": [],
   "source": [
    "import pandas as pd\n",
    "data = pd.read_json('geneds_json.txt')"
   ]
  },
  {
   "cell_type": "code",
   "execution_count": null,
   "metadata": {},
   "outputs": [],
   "source": [
    "a = str(data['GenedRequirement'][data['avg_gpa'].idxmax( )]).lstrip('[').rstrip(']')\n",
    "b = data['Total'][data['avg_gpa'].idxmax( )]\n",
    "c = data['avg_gpa'][data['avg_gpa'].idxmax( )]\n",
    "d = data['compre'][data['avg_gpa'].idxmax( )]\n",
    "e = data['name'][data['avg_gpa'].idxmax( )]\n",
    "f = float(data['pct_As'][data['avg_gpa'].idxmax( )])*100\n",
    "g = data['title'][data['avg_gpa'].idxmax( )]\n",
    "print('Class Title      : %s' %(g))\n",
    "print('Class Number     : %s' %(e))\n",
    "print('GenedRequirement : %s' %a)\n",
    "print('Average GPA      : %s' %c)\n",
    "print('Class perc. A\\'s  : %f %%'%f)\n"
   ]
  },
  {
   "cell_type": "markdown",
   "metadata": {},
   "source": [
    "<p>4. Explain what each line of the following code does. (Note that this code is in your notebook as well.)</p>"
   ]
  },
  {
   "cell_type": "raw",
   "metadata": {},
   "source": [
    "import pandas as pd\n",
    "fname = 'geneds_json.txt'\n",
    "data = pd.read_json(fname)\n",
    "s = data.apply(lambda x: pd.Series(x['GenedRequirement']),axis=1).stack().reset_index(level=1, drop=True)\n",
    "s.name = 'GenedRequirement'\n",
    "new = data.drop('GenedRequirement', axis=1).join(s)\n",
    "new.groupby(['GenedRequirement']).mean()"
   ]
  },
  {
   "cell_type": "code",
   "execution_count": null,
   "metadata": {
    "collapsed": true
   },
   "outputs": [],
   "source": [
    "import pandas as pd"
   ]
  },
  {
   "cell_type": "markdown",
   "metadata": {},
   "source": [
    "<p1>Import and load pandas into your namespace </p1>"
   ]
  },
  {
   "cell_type": "code",
   "execution_count": null,
   "metadata": {
    "collapsed": true
   },
   "outputs": [],
   "source": [
    "fname = 'geneds_json.txt'"
   ]
  },
  {
   "cell_type": "markdown",
   "metadata": {},
   "source": [
    "<p2>Assign fname to 'gened_json.txt' </p2>"
   ]
  },
  {
   "cell_type": "code",
   "execution_count": null,
   "metadata": {
    "collapsed": true
   },
   "outputs": [],
   "source": [
    "s = data.apply(lambda x: pd.Series(x['GenedRequirement']),axis=1).stack().reset_index(level=1, drop=True)"
   ]
  },
  {
   "cell_type": "markdown",
   "metadata": {},
   "source": [
    "1) Breaks the ['GenedRequirement'] column into the individual general education requirements <br>\n",
    "2) Reorganizes the two columns into one column based on the second 'GenedRequirement' <br>\n",
    "3) Reindexes the entire column to create a new column listing each 'GenedRequirement' <b>"
   ]
  },
  {
   "cell_type": "code",
   "execution_count": null,
   "metadata": {
    "collapsed": true
   },
   "outputs": [],
   "source": [
    "s.name = 'GenedRequirement'"
   ]
  },
  {
   "cell_type": "markdown",
   "metadata": {},
   "source": [
    "naming the data frame s as 'GenedRequirement'"
   ]
  },
  {
   "cell_type": "code",
   "execution_count": null,
   "metadata": {},
   "outputs": [],
   "source": [
    "new = data.drop('GenedRequirement', axis=1).join(s)"
   ]
  },
  {
   "cell_type": "markdown",
   "metadata": {},
   "source": [
    "Drop the column 'GenedRequirement' then join dataframe s. <br>\n",
    "Note that dataframe s have a new 'GenedRequirement' that have been reindexed"
   ]
  },
  {
   "cell_type": "code",
   "execution_count": null,
   "metadata": {},
   "outputs": [],
   "source": [
    "new.groupby(['GenedRequirement']).mean()"
   ]
  },
  {
   "cell_type": "markdown",
   "metadata": {},
   "source": [
    "Group by the term 'GenedRequirement' and find the mean for each column "
   ]
  }
 ],
 "metadata": {
  "kernelspec": {
   "display_name": "Python 3",
   "language": "python",
   "name": "python3"
  },
  "language_info": {
   "codemirror_mode": {
    "name": "ipython",
    "version": 3
   },
   "file_extension": ".py",
   "mimetype": "text/x-python",
   "name": "python",
   "nbconvert_exporter": "python",
   "pygments_lexer": "ipython3",
   "version": "3.5.1"
  }
 },
 "nbformat": 4,
 "nbformat_minor": 2
}
