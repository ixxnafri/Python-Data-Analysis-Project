{
 "cells": [
  {
   "cell_type": "code",
   "execution_count": 1,
   "metadata": {},
   "outputs": [
    {
     "ename": "PandasError",
     "evalue": "DataFrame constructor not properly called!",
     "output_type": "error",
     "traceback": [
      "\u001b[0;31m---------------------------------------------------------------------------\u001b[0m",
      "\u001b[0;31mPandasError\u001b[0m                               Traceback (most recent call last)",
      "\u001b[0;32m<ipython-input-1-297b07fb045b>\u001b[0m in \u001b[0;36m<module>\u001b[0;34m()\u001b[0m\n\u001b[1;32m      1\u001b[0m \u001b[0;32mimport\u001b[0m \u001b[0mpandas\u001b[0m \u001b[0;32mas\u001b[0m \u001b[0mpd\u001b[0m\u001b[0;34m\u001b[0m\u001b[0m\n\u001b[0;32m----> 2\u001b[0;31m \u001b[0mdata\u001b[0m \u001b[0;34m=\u001b[0m \u001b[0mpd\u001b[0m\u001b[0;34m.\u001b[0m\u001b[0mread_json\u001b[0m\u001b[0;34m(\u001b[0m\u001b[0;34m'grades_json.txt'\u001b[0m\u001b[0;34m)\u001b[0m\u001b[0;34m\u001b[0m\u001b[0m\n\u001b[0m",
      "\u001b[0;32m~/anaconda3_410/lib/python3.5/site-packages/pandas/io/json.py\u001b[0m in \u001b[0;36mread_json\u001b[0;34m(path_or_buf, orient, typ, dtype, convert_axes, convert_dates, keep_default_dates, numpy, precise_float, date_unit, encoding, lines)\u001b[0m\n\u001b[1;32m    279\u001b[0m         obj = FrameParser(json, orient, dtype, convert_axes, convert_dates,\n\u001b[1;32m    280\u001b[0m                           \u001b[0mkeep_default_dates\u001b[0m\u001b[0;34m,\u001b[0m \u001b[0mnumpy\u001b[0m\u001b[0;34m,\u001b[0m \u001b[0mprecise_float\u001b[0m\u001b[0;34m,\u001b[0m\u001b[0;34m\u001b[0m\u001b[0m\n\u001b[0;32m--> 281\u001b[0;31m                           date_unit).parse()\n\u001b[0m\u001b[1;32m    282\u001b[0m \u001b[0;34m\u001b[0m\u001b[0m\n\u001b[1;32m    283\u001b[0m     \u001b[0;32mif\u001b[0m \u001b[0mtyp\u001b[0m \u001b[0;34m==\u001b[0m \u001b[0;34m'series'\u001b[0m \u001b[0;32mor\u001b[0m \u001b[0mobj\u001b[0m \u001b[0;32mis\u001b[0m \u001b[0;32mNone\u001b[0m\u001b[0;34m:\u001b[0m\u001b[0;34m\u001b[0m\u001b[0m\n",
      "\u001b[0;32m~/anaconda3_410/lib/python3.5/site-packages/pandas/io/json.py\u001b[0m in \u001b[0;36mparse\u001b[0;34m(self)\u001b[0m\n\u001b[1;32m    347\u001b[0m \u001b[0;34m\u001b[0m\u001b[0m\n\u001b[1;32m    348\u001b[0m         \u001b[0;32melse\u001b[0m\u001b[0;34m:\u001b[0m\u001b[0;34m\u001b[0m\u001b[0m\n\u001b[0;32m--> 349\u001b[0;31m             \u001b[0mself\u001b[0m\u001b[0;34m.\u001b[0m\u001b[0m_parse_no_numpy\u001b[0m\u001b[0;34m(\u001b[0m\u001b[0;34m)\u001b[0m\u001b[0;34m\u001b[0m\u001b[0m\n\u001b[0m\u001b[1;32m    350\u001b[0m \u001b[0;34m\u001b[0m\u001b[0m\n\u001b[1;32m    351\u001b[0m         \u001b[0;32mif\u001b[0m \u001b[0mself\u001b[0m\u001b[0;34m.\u001b[0m\u001b[0mobj\u001b[0m \u001b[0;32mis\u001b[0m \u001b[0;32mNone\u001b[0m\u001b[0;34m:\u001b[0m\u001b[0;34m\u001b[0m\u001b[0m\n",
      "\u001b[0;32m~/anaconda3_410/lib/python3.5/site-packages/pandas/io/json.py\u001b[0m in \u001b[0;36m_parse_no_numpy\u001b[0;34m(self)\u001b[0m\n\u001b[1;32m    564\u001b[0m         \u001b[0;32mif\u001b[0m \u001b[0morient\u001b[0m \u001b[0;34m==\u001b[0m \u001b[0;34m\"columns\"\u001b[0m\u001b[0;34m:\u001b[0m\u001b[0;34m\u001b[0m\u001b[0m\n\u001b[1;32m    565\u001b[0m             self.obj = DataFrame(\n\u001b[0;32m--> 566\u001b[0;31m                 loads(json, precise_float=self.precise_float), dtype=None)\n\u001b[0m\u001b[1;32m    567\u001b[0m         \u001b[0;32melif\u001b[0m \u001b[0morient\u001b[0m \u001b[0;34m==\u001b[0m \u001b[0;34m\"split\"\u001b[0m\u001b[0;34m:\u001b[0m\u001b[0;34m\u001b[0m\u001b[0m\n\u001b[1;32m    568\u001b[0m             decoded = dict((str(k), v)\n",
      "\u001b[0;32m~/anaconda3_410/lib/python3.5/site-packages/pandas/core/frame.py\u001b[0m in \u001b[0;36m__init__\u001b[0;34m(self, data, index, columns, dtype, copy)\u001b[0m\n\u001b[1;32m    343\u001b[0m                                          copy=False)\n\u001b[1;32m    344\u001b[0m             \u001b[0;32melse\u001b[0m\u001b[0;34m:\u001b[0m\u001b[0;34m\u001b[0m\u001b[0m\n\u001b[0;32m--> 345\u001b[0;31m                 \u001b[0;32mraise\u001b[0m \u001b[0mPandasError\u001b[0m\u001b[0;34m(\u001b[0m\u001b[0;34m'DataFrame constructor not properly called!'\u001b[0m\u001b[0;34m)\u001b[0m\u001b[0;34m\u001b[0m\u001b[0m\n\u001b[0m\u001b[1;32m    346\u001b[0m \u001b[0;34m\u001b[0m\u001b[0m\n\u001b[1;32m    347\u001b[0m         \u001b[0mNDFrame\u001b[0m\u001b[0;34m.\u001b[0m\u001b[0m__init__\u001b[0m\u001b[0;34m(\u001b[0m\u001b[0mself\u001b[0m\u001b[0;34m,\u001b[0m \u001b[0mmgr\u001b[0m\u001b[0;34m,\u001b[0m \u001b[0mfastpath\u001b[0m\u001b[0;34m=\u001b[0m\u001b[0;32mTrue\u001b[0m\u001b[0;34m)\u001b[0m\u001b[0;34m\u001b[0m\u001b[0m\n",
      "\u001b[0;31mPandasError\u001b[0m: DataFrame constructor not properly called!"
     ]
    }
   ],
   "source": [
    "import pandas as pd\n",
    "data = pd.read_json('grades_json.txt')"
   ]
  },
  {
   "cell_type": "code",
   "execution_count": 5,
   "metadata": {},
   "outputs": [
    {
     "data": {
      "text/html": [
       "<div>\n",
       "<table border=\"1\" class=\"dataframe\">\n",
       "  <thead>\n",
       "    <tr style=\"text-align: right;\">\n",
       "      <th></th>\n",
       "      <th>[{\\course\\\":\\\"AAS 100\\\"</th>\n",
       "      <th>\\\"instructors\\\":[{\\\"instructor\\\":\\\"All Sections\\\"</th>\n",
       "      <th>\\\"countGPA\\\":761</th>\n",
       "      <th>\\\"avgGPA\\\":3.52</th>\n",
       "      <th>\\\"gpa_1_8\\\":4</th>\n",
       "      <th>\\\"gpa_1_6\\\":4</th>\n",
       "      <th>\\\"topQuartGPA\\\":4</th>\n",
       "      <th>\\\"medianGPA\\\":4</th>\n",
       "      <th>\\\"bottomQuartGPA\\\":3.33</th>\n",
       "      <th>\\\"gpa_5_6\\\":2.67</th>\n",
       "      <th>...</th>\n",
       "      <th>\\\"stddevDiff\\\":-0.15517151147788733</th>\n",
       "      <th>\\\"course\\\":\\\"YDSH 320\\\".2</th>\n",
       "      <th>\\\"Course Subject\\\":\\\"YDSH\\\".3</th>\n",
       "      <th>\\\"Course Title\\\":\\\"Lit Responses to the Holocaust\\\".2</th>\n",
       "      <th>\\\"gpaDist\\\":[14.139</th>\n",
       "      <th>3.972</th>\n",
       "      <th>4.772</th>\n",
       "      <th>0.4357</th>\n",
       "      <th>0].3194</th>\n",
       "      <th>\\\"sections\\\":1}]}]\"</th>\n",
       "    </tr>\n",
       "  </thead>\n",
       "  <tbody>\n",
       "  </tbody>\n",
       "</table>\n",
       "<p>0 rows × 158848 columns</p>\n",
       "</div>"
      ],
      "text/plain": [
       "Empty DataFrame\n",
       "Columns: [[{\\course\\\":\\\"AAS 100\\\", \\\"instructors\\\":[{\\\"instructor\\\":\\\"All Sections\\\", \\\"countGPA\\\":761, \\\"avgGPA\\\":3.52, \\\"gpa_1_8\\\":4, \\\"gpa_1_6\\\":4, \\\"topQuartGPA\\\":4, \\\"medianGPA\\\":4, \\\"bottomQuartGPA\\\":3.33, \\\"gpa_5_6\\\":2.67, \\\"gpa_7_8\\\":2, \\\"gpa_top\\\":4, \\\"gpa_bottom\\\":0, \\\"stddevDiff\\\":99999, \\\"course\\\":\\\"AAS 100\\\", \\\"Course Subject\\\":\\\"AAS\\\", \\\"Course Title\\\":\\\"Intro Asian American Studies\\\", \\\"gpaDist\\\":[512, 185, 43, 8, 13], \\\"sections\\\":26}, {\\\"instructor\\\":\\\"Chung,  G.\\\", \\\"countGPA\\\":58, \\\"avgGPA\\\":3.79, \\\"gpa_1_8\\\":4.1, \\\"gpa_1_6\\\":4.1, \\\"topQuartGPA\\\":4.1, \\\"medianGPA\\\":4.1, \\\"bottomQuartGPA\\\":4, \\\"gpa_5_6\\\":3.33, \\\"gpa_7_8\\\":2.33, \\\"gpa_top\\\":4.1, \\\"gpa_bottom\\\":1.67, \\\"gpaAvgDiff\\\":0.26316779192532413, \\\"stddevDiff\\\":0.3433009127530812, \\\"course\\\":\\\"AAS 100\\\".1, \\\"Course Subject\\\":\\\"AAS\\\".1, \\\"Course Title\\\":\\\"Intro Asian American Studies\\\".1, \\\"gpaDist\\\":[48, 7, 3, 0, 0], \\\"sections\\\":2}, {\\\"instructor\\\":\\\"Peralta,  C.\\\", \\\"countGPA\\\":198, \\\"avgGPA\\\":3.64, \\\"gpa_1_8\\\":4.2, \\\"gpa_1_6\\\":4.2, \\\"topQuartGPA\\\":4.2, \\\"medianGPA\\\":4.2, \\\"bottomQuartGPA\\\":3.33.1, \\\"gpa_5_6\\\":3, \\\"gpa_7_8\\\":2.33.1, \\\"gpa_top\\\":4.2, \\\"gpa_bottom\\\":0.1, \\\"gpaAvgDiff\\\":0.11744156413013096, \\\"stddevDiff\\\":0.153201863594554, \\\"course\\\":\\\"AAS 100\\\".2, \\\"Course Subject\\\":\\\"AAS\\\".2, \\\"Course Title\\\":\\\"Intro Asian American Studies\\\".2, \\\"gpaDist\\\":[148, 39, 6, 2, 3], \\\"sections\\\":7}, {\\\"instructor\\\":\\\"Lee,  J.\\\", \\\"countGPA\\\":51, \\\"avgGPA\\\":3.61, \\\"gpa_1_8\\\":4.3, \\\"gpa_1_6\\\":4.3, \\\"topQuartGPA\\\":4.3, \\\"medianGPA\\\":3.67, \\\"bottomQuartGPA\\\":3.33.2, \\\"gpa_5_6\\\":3.1, \\\"gpa_7_8\\\":2.33.2, \\\"gpa_top\\\":4.3, \\\"gpa_bottom\\\":1.33, \\\"gpaAvgDiff\\\":0.08416170673262613, \\\"stddevDiff\\\":0.10978847574313441, \\\"course\\\":\\\"AAS 100\\\".3, \\\"Course Subject\\\":\\\"AAS\\\".3, \\\"Course Title\\\":\\\"Intro Asian American Studies\\\".3, \\\"gpaDist\\\":[38, 9, 3.1, 1, 0].1, \\\"sections\\\":2}.1, {\\\"instructor\\\":\\\"Atienza,  P.\\\", \\\"countGPA\\\":61, \\\"avgGPA\\\":3.5, \\\"gpa_1_8\\\":4.4, ...]\n",
       "Index: []\n",
       "\n",
       "[0 rows x 158848 columns]"
      ]
     },
     "execution_count": 5,
     "metadata": {},
     "output_type": "execute_result"
    }
   ],
   "source": [
    "data"
   ]
  },
  {
   "cell_type": "code",
   "execution_count": null,
   "metadata": {
    "collapsed": true
   },
   "outputs": [],
   "source": []
  }
 ],
 "metadata": {
  "kernelspec": {
   "display_name": "Python 3",
   "language": "python",
   "name": "python3"
  },
  "language_info": {
   "codemirror_mode": {
    "name": "ipython",
    "version": 3
   },
   "file_extension": ".py",
   "mimetype": "text/x-python",
   "name": "python",
   "nbconvert_exporter": "python",
   "pygments_lexer": "ipython3",
   "version": "3.5.4"
  }
 },
 "nbformat": 4,
 "nbformat_minor": 2
}
